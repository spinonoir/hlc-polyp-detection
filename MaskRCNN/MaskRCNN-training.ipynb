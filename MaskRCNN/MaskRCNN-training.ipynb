{
 "cells": [
  {
   "cell_type": "code",
   "execution_count": 1,
   "metadata": {},
   "outputs": [],
   "source": [
    "# Load image from directory and displat it \n",
    "import os\n",
    "import skimage.io\n",
    "import random\n",
    "import glob \n",
    "import matplotlib.pyplot as plt\n",
    "import numpy as np\n",
    "import torch \n",
    "import torchvision\n",
    "from src.utils import *\n",
    "MASK_DIR = os.path.join('data', 'GroundTruth')\n",
    "IMAGE_DIR = os.path.join('data', 'Original')\n",
    "file_names = next(os.walk(IMAGE_DIR))[2]\n",
    "image = skimage.io.imread(os.path.join(IMAGE_DIR, random.choice(file_names)))"
   ]
  },
  {
   "cell_type": "code",
   "execution_count": 2,
   "metadata": {},
   "outputs": [],
   "source": [
    "# Auo reload modules\n",
    "%load_ext autoreload\n",
    "%autoreload 2"
   ]
  },
  {
   "cell_type": "code",
   "execution_count": 23,
   "metadata": {},
   "outputs": [],
   "source": [
    "import src.MaskedPolypDataset as mpd\n",
    "data_set = mpd.MaskedPolypDataset(\n",
    "    root = 'data',\n",
    "    transforms = get_transform(train=False),\n",
    "    width=512,\n",
    "    height=512\n",
    ")\n",
    "dataloaders = torch.utils.data.DataLoader(\n",
    "    data_set,\n",
    "    batch_size=2,\n",
    "    shuffle=True,\n",
    "    num_workers=1,\n",
    "    collate_fn=mpd.collate_fn,\n",
    "    pin_memory=True\n",
    ")\n"
   ]
  },
  {
   "cell_type": "code",
   "execution_count": 21,
   "metadata": {},
   "outputs": [
    {
     "name": "stdout",
     "output_type": "stream",
     "text": [
      "boxes shape: (1, 4)\n"
     ]
    }
   ],
   "source": [
    "im, lb = data_set.__getitem__(0)"
   ]
  },
  {
   "attachments": {},
   "cell_type": "markdown",
   "metadata": {},
   "source": [
    "# Scratchpad"
   ]
  },
  {
   "cell_type": "code",
   "execution_count": 9,
   "metadata": {},
   "outputs": [],
   "source": [
    "# get bounding box coordinates for each mask\n",
    "def get_mask_coordinates(mask):\n",
    "    # get all object masks\n",
    "    num_objs = mask.shape[0]\n",
    "    boxes = []\n",
    "    for i in range(num_objs):\n",
    "        pos = torch.where(mask[i])\n",
    "        xmin = int(torch.min(pos[1]))\n",
    "        xmax = int(torch.max(pos[1]))\n",
    "        ymin = int(torch.min(pos[0]))\n",
    "        ymax = int(torch.max(pos[0]))\n",
    "        boxes.append([xmin, ymin, xmax, ymax])\n",
    "    return boxes"
   ]
  },
  {
   "cell_type": "code",
   "execution_count": 27,
   "metadata": {},
   "outputs": [],
   "source": [
    "# Get bounding boxes for all masks in directory \n",
    "def get_all_boxes(mask_dir):\n",
    "    mask_files = glob.glob(mask_dir + '/*.tif')\n",
    "    all_boxes = []\n",
    "    all_masks = []\n",
    "    for mask_file in mask_files:\n",
    "        mask = skimage.io.imread(mask_file)\n",
    "        all_masks.append(mask)\n",
    "        mask = torch.from_numpy(mask)\n",
    "        mask = mask.unsqueeze(0)\n",
    "        boxes = get_mask_coordinates(mask)\n",
    "        all_boxes.append(boxes)\n",
    "    return all_boxes, all_masks"
   ]
  },
  {
   "cell_type": "code",
   "execution_count": 28,
   "metadata": {},
   "outputs": [],
   "source": [
    "all_boxes, all_masks = get_all_boxes(MASK_DIR)"
   ]
  },
  {
   "cell_type": "code",
   "execution_count": 23,
   "metadata": {},
   "outputs": [
    {
     "name": "stdout",
     "output_type": "stream",
     "text": [
      "Number of boxes: 612\n"
     ]
    }
   ],
   "source": [
    "num_boxes = 0\n",
    "for boxes in all_boxes:\n",
    "    num_boxes += len(boxes)\n",
    "\n",
    "print('Number of boxes: {}'.format(num_boxes))"
   ]
  },
  {
   "cell_type": "code",
   "execution_count": 29,
   "metadata": {},
   "outputs": [
    {
     "data": {
      "text/plain": [
       "array([[0, 0, 0, ..., 0, 0, 0],\n",
       "       [0, 0, 0, ..., 0, 0, 0],\n",
       "       [0, 0, 0, ..., 0, 0, 0],\n",
       "       ...,\n",
       "       [0, 0, 0, ..., 0, 0, 0],\n",
       "       [0, 0, 0, ..., 0, 0, 0],\n",
       "       [0, 0, 0, ..., 0, 0, 0]], dtype=uint8)"
      ]
     },
     "execution_count": 29,
     "metadata": {},
     "output_type": "execute_result"
    }
   ],
   "source": [
    "all_masks[0]"
   ]
  },
  {
   "cell_type": "code",
   "execution_count": null,
   "metadata": {},
   "outputs": [],
   "source": [
    "# Build pandas dataframe with image file name, bounding box coordinates\n",
    "# using skimage.io.imread to load images\n"
   ]
  },
  {
   "cell_type": "code",
   "execution_count": 3,
   "metadata": {},
   "outputs": [],
   "source": [
    "allimg = list(sorted(glob.glob(os.path.join(IMAGE_DIR, \"*.tif\"))))"
   ]
  },
  {
   "cell_type": "code",
   "execution_count": 4,
   "metadata": {},
   "outputs": [],
   "source": [
    "allm = list(sorted(glob.glob(os.path.join(MASK_DIR, \"*.tif\"))))"
   ]
  },
  {
   "cell_type": "code",
   "execution_count": 11,
   "metadata": {},
   "outputs": [],
   "source": [
    "m = skimage.io.imread(allm[0])"
   ]
  },
  {
   "cell_type": "code",
   "execution_count": 12,
   "metadata": {},
   "outputs": [
    {
     "data": {
      "text/plain": [
       "(288, 384)"
      ]
     },
     "execution_count": 12,
     "metadata": {},
     "output_type": "execute_result"
    }
   ],
   "source": [
    "m.shape"
   ]
  },
  {
   "cell_type": "code",
   "execution_count": 82,
   "metadata": {},
   "outputs": [],
   "source": [
    "from skimage.measure import regionprops\n",
    "props = regionprops(m)"
   ]
  },
  {
   "cell_type": "code",
   "execution_count": 13,
   "metadata": {},
   "outputs": [],
   "source": [
    "n = m.copy()"
   ]
  },
  {
   "cell_type": "code",
   "execution_count": 14,
   "metadata": {},
   "outputs": [
    {
     "data": {
      "text/plain": [
       "<matplotlib.image.AxesImage at 0x288b99820>"
      ]
     },
     "execution_count": 14,
     "metadata": {},
     "output_type": "execute_result"
    },
    {
     "data": {
      "image/png": "[encoded data removed]",
      "text/plain": [
       "<Figure size 640x480 with 1 Axes>"
      ]
     },
     "metadata": {},
     "output_type": "display_data"
    }
   ],
   "source": [
    "plt.imshow(n)"
   ]
  },
  {
   "cell_type": "code",
   "execution_count": 15,
   "metadata": {},
   "outputs": [
    {
     "data": {
      "text/plain": [
       "<matplotlib.image.AxesImage at 0x288c96580>"
      ]
     },
     "execution_count": 15,
     "metadata": {},
     "output_type": "execute_result"
    },
    {
     "data": {
      "image/png": "[encoded data removed]",
      "text/plain": [
       "<Figure size 640x480 with 1 Axes>"
      ]
     },
     "metadata": {},
     "output_type": "display_data"
    }
   ],
   "source": [
    "o = n.copy()\n",
    "o[o < 255] = 0\n",
    "o[o == 255] = 1\n",
    "plt.imshow(o)"
   ]
  },
  {
   "cell_type": "code",
   "execution_count": 213,
   "metadata": {},
   "outputs": [
    {
     "data": {
      "text/plain": [
       "<matplotlib.image.AxesImage at 0x2c37e9e20>"
      ]
     },
     "execution_count": 213,
     "metadata": {},
     "output_type": "execute_result"
    },
    {
     "data": {
      "image/png": "[encoded data removed]",
      "text/plain": [
       "<Figure size 640x480 with 1 Axes>"
      ]
     },
     "metadata": {},
     "output_type": "display_data"
    }
   ],
   "source": [
    "from skimage.transform import resize\n",
    "o = n.copy()\n",
    "o = resize(m, (512, 512), mode='constant', preserve_range=True)\n",
    "o[o < 225] = 0\n",
    "o[o == 225] = 1\n",
    "plt.imshow(o)"
   ]
  },
  {
   "cell_type": "code",
   "execution_count": 16,
   "metadata": {},
   "outputs": [],
   "source": [
    "p = o.copy()\n",
    "# p[p < 255] = 0\n",
    "# p[p == 255] = 1\n",
    "p = torch.as_tensor(p, dtype=torch.uint8)\n",
    "pos = torch.where(p)\n",
    "\n"
   ]
  },
  {
   "cell_type": "code",
   "execution_count": 35,
   "metadata": {},
   "outputs": [
    {
     "data": {
      "text/plain": [
       "155"
      ]
     },
     "execution_count": 35,
     "metadata": {},
     "output_type": "execute_result"
    }
   ],
   "source": [
    "int(torch.min(pos[0]))"
   ]
  }
 ],
 "metadata": {
  "kernelspec": {
   "display_name": "hidden-layer-cake",
   "language": "python",
   "name": "python3"
  },
  "language_info": {
   "codemirror_mode": {
    "name": "ipython",
    "version": 3
   },
   "file_extension": ".py",
   "mimetype": "text/x-python",
   "name": "python",
   "nbconvert_exporter": "python",
   "pygments_lexer": "ipython3",
   "version": "3.9.16"
  },
  "orig_nbformat": 4
 },
 "nbformat": 4,
 "nbformat_minor": 2
}
