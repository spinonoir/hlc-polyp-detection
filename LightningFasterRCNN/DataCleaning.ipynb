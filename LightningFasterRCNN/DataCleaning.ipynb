{
 "cells": [
  {
   "attachments": {},
   "cell_type": "markdown",
   "metadata": {},
   "source": [
    "# Data Preprocessing"
   ]
  },
  {
   "attachments": {},
   "cell_type": "markdown",
   "metadata": {},
   "source": [
    "## Goal is to create the directory structure:\n"
   ]
  },
  {
   "attachments": {},
   "cell_type": "markdown",
   "metadata": {},
   "source": [
    "```\n",
    "data/\n",
    "├── all_labels.csv\n",
    "├── CVC-ClinicDB/\n",
    "│   ├── test/\n",
    "│   │   └── img_CVC-ClinicDB_test.png\n",
    "│   ├── train/\n",
    "│   │   └── img_CVC-ClinicDB_train.png\n",
    "│   └── validation/\n",
    "│       └── img_CVC-ClinicDB_validation.png\n",
    "├── ETIS-LaribPolypDB/\n",
    "│   └── test/\n",
    "│       └── img_ETIS-LaribPolypDB_test.png\n",
    "├── Kaidong/\n",
    "│   ├── test/\n",
    "│   │   └── img_Kaidong_test.png\n",
    "│   ├── train/\n",
    "│   │   └── img_Kaidong_train.png\n",
    "│   └── validation/\n",
    "│       └── img_Kaidong_validation.png\n",
    "├── Kvasir/\n",
    "│   ├── test/\n",
    "│   │   └── img_Kvasir_test.png\n",
    "│   ├── train/\n",
    "│   │   └── img_Kvasir_train.png\n",
    "│   └── validation/\n",
    "│       └── img_Kvasir_validation.png\n",
    "└── Piccolo/\n",
    "    ├── test/\n",
    "    │   └── img_Piccolo_test.png\n",
    "    ├── train/\n",
    "    │   └── img_Piccolo_train.png\n",
    "    └── validation/\n",
    "        └── img_Piccolo_validation.png\n",
    "```"
   ]
  },
  {
   "attachments": {},
   "cell_type": "markdown",
   "metadata": {},
   "source": [
    "## Imports"
   ]
  },
  {
   "cell_type": "code",
   "execution_count": 1,
   "metadata": {},
   "outputs": [],
   "source": [
    "import pandas as pd\n",
    "import numpy as np\n",
    "import os\n",
    "import skimage.io as io\n",
    "import matplotlib.pyplot as plt\n",
    "import glob as glob\n",
    "import torch\n"
   ]
  },
  {
   "cell_type": "code",
   "execution_count": 197,
   "metadata": {},
   "outputs": [],
   "source": [
    "# Data directory during image processing stage\n",
    "DATA_DIR = 'data/data' \n",
    "CVC_CLINICDB_DIR = os.path.join(DATA_DIR, 'CVC-ClinicDB')\n",
    "KAIDONG_DIR = os.path.join(DATA_DIR, 'Kaidong')\n",
    "PICCOLO_DIR = os.path.join(DATA_DIR, 'Piccolo')\n",
    "ETIS_DIR = os.path.join(DATA_DIR, 'ETIS-LaribPolypDB')\n",
    "KVASIR_DIR = os.path.join(DATA_DIR, 'Kvasir')"
   ]
  },
  {
   "attachments": {},
   "cell_type": "markdown",
   "metadata": {},
   "source": [
    "## Start with Kaidong"
   ]
  },
  {
   "cell_type": "code",
   "execution_count": 132,
   "metadata": {},
   "outputs": [],
   "source": [
    "df_kai_train = pd.read_csv(os.path.join(KAIDONG_DIR, 'train/train_labels.csv'))\n",
    "df_kai_test = pd.read_csv(os.path.join(KAIDONG_DIR, 'test/test_labels.csv'))\n",
    "df_kai_validation = pd.read_csv(os.path.join(KAIDONG_DIR, 'validation/val_labels.csv'))"
   ]
  },
  {
   "cell_type": "code",
   "execution_count": 133,
   "metadata": {},
   "outputs": [],
   "source": [
    "kaidong_test_dir = os.path.join('Kaidong', 'test', 'images')\n",
    "kaidong_train_dir = os.path.join('Kaidong', 'train', 'images')\n",
    "kaidong_validation_dir = os.path.join('Kaidong', 'validation', 'images')"
   ]
  },
  {
   "cell_type": "code",
   "execution_count": 134,
   "metadata": {},
   "outputs": [],
   "source": [
    "df_kai_train['path'] = df_kai_train['filename'].apply(lambda x: os.path.join(kaidong_train_dir, x))\n",
    "# df_kai_train.set_index('filename', inplace=True)\n",
    "df_kai_test['path'] = df_kai_test['filename'].apply(lambda x: os.path.join(kaidong_test_dir, x))\n",
    "# df_kai_test.set_index('filename', inplace=True)\n",
    "df_kai_validation['path'] = df_kai_validation['filename'].apply(lambda x: os.path.join(kaidong_validation_dir, x))\n",
    "# df_kai_validation.set_index('filename', inplace=True)"
   ]
  },
  {
   "cell_type": "code",
   "execution_count": 135,
   "metadata": {},
   "outputs": [],
   "source": [
    "df = pd.concat([df_kai_train, df_kai_test, df_kai_validation])"
   ]
  },
  {
   "cell_type": "code",
   "execution_count": 137,
   "metadata": {},
   "outputs": [],
   "source": [
    "df.to_csv('data/data/Kaidong.csv')"
   ]
  },
  {
   "attachments": {},
   "cell_type": "markdown",
   "metadata": {},
   "source": [
    "## Piccolo"
   ]
  },
  {
   "cell_type": "code",
   "execution_count": 140,
   "metadata": {},
   "outputs": [],
   "source": [
    "all_test_masks = glob.glob(os.path.join(PICCOLO_DIR, 'test', 'masks', '*.tif'))"
   ]
  },
  {
   "cell_type": "code",
   "execution_count": 143,
   "metadata": {},
   "outputs": [],
   "source": [
    "mmask = io.imread(all_test_masks[4])"
   ]
  },
  {
   "cell_type": "code",
   "execution_count": 146,
   "metadata": {},
   "outputs": [
    {
     "data": {
      "text/plain": [
       "255"
      ]
     },
     "execution_count": 146,
     "metadata": {},
     "output_type": "execute_result"
    }
   ],
   "source": [
    "np.max(mmask)"
   ]
  },
  {
   "cell_type": "code",
   "execution_count": 145,
   "metadata": {},
   "outputs": [
    {
     "data": {
      "text/plain": [
       "<matplotlib.image.AxesImage at 0x29fdc80a0>"
      ]
     },
     "execution_count": 145,
     "metadata": {},
     "output_type": "execute_result"
    },
    {
     "data": {
      "image/png": "[encoded data removed]",
      "text/plain": [
       "<Figure size 640x480 with 1 Axes>"
      ]
     },
     "metadata": {},
     "output_type": "display_data"
    }
   ],
   "source": [
    "plt.imshow(mmask)"
   ]
  },
  {
   "cell_type": "code",
   "execution_count": 162,
   "metadata": {},
   "outputs": [],
   "source": [
    "\n",
    "mmask = mmask / np.max(mmask)\n",
    "num_objs = len(np.unique(mask))\n",
    "boxes = []\n",
    "for i in range(1, num_objs):\n",
    "    pos = np.where(mmask == i)\n",
    "    xmin = np.min(pos[1])\n",
    "    xmax = np.max(pos[1])\n",
    "    ymin = np.min(pos[0])\n",
    "    ymax = np.max(pos[0])\n",
    "    box = (xmin, ymin, xmax, ymax)\n",
    "    boxes.append(box)\n",
    "boxes = np.asarray(boxes, dtype=np.float32)"
   ]
  },
  {
   "cell_type": "code",
   "execution_count": 163,
   "metadata": {},
   "outputs": [
    {
     "data": {
      "text/plain": [
       "array([[239.,  73., 738., 479.]], dtype=float32)"
      ]
     },
     "execution_count": 163,
     "metadata": {},
     "output_type": "execute_result"
    }
   ],
   "source": [
    "boxes"
   ]
  },
  {
   "cell_type": "code",
   "execution_count": 172,
   "metadata": {},
   "outputs": [],
   "source": [
    "all_imgs = glob.glob(os.path.join(PICCOLO_DIR, '*', 'images', '*.png'))\n",
    "all_masks = glob.glob(os.path.join(PICCOLO_DIR, '*', 'masks', '*.tif'))"
   ]
  },
  {
   "cell_type": "code",
   "execution_count": 156,
   "metadata": {},
   "outputs": [
    {
     "data": {
      "text/plain": [
       "'011_VP9_frame0071'"
      ]
     },
     "execution_count": 156,
     "metadata": {},
     "output_type": "execute_result"
    }
   ],
   "source": [
    "all_imgs[0].split('/')[-1].split('.')[0]"
   ]
  },
  {
   "cell_type": "code",
   "execution_count": 179,
   "metadata": {},
   "outputs": [],
   "source": [
    "piccolo_dict = {'filename': [], 'path': [], 'xmin': [], 'ymin': [], 'xmax': [], 'ymax': [], 'class': [], 'width': [], 'height': []}"
   ]
  },
  {
   "cell_type": "code",
   "execution_count": 181,
   "metadata": {},
   "outputs": [],
   "source": [
    "bad_images = []"
   ]
  },
  {
   "cell_type": "code",
   "execution_count": 182,
   "metadata": {},
   "outputs": [
    {
     "name": "stdout",
     "output_type": "stream",
     "text": [
      "bad image: filename='054_VP48_frame0033.png', path='data/data/Piccolo/train/images/054_VP48_frame0033.png', mask=data/data/Piccolo/train/masks/054_VP48_frame0033_Corrected.tif\n",
      "bad image: filename='032_VP30_frame2942.png', path='data/data/Piccolo/train/images/032_VP30_frame2942.png', mask=data/data/Piccolo/train/masks/032_VP30_frame2942_Corrected.tif\n",
      "bad image: filename='020_VP22_frame3899.png', path='data/data/Piccolo/train/images/020_VP22_frame3899.png', mask=data/data/Piccolo/train/masks/020_VP22_frame3899_Corrected.tif\n",
      "bad image: filename='020_VP22_frame4311.png', path='data/data/Piccolo/train/images/020_VP22_frame4311.png', mask=data/data/Piccolo/train/masks/020_VP22_frame4311_Corrected.tif\n",
      "bad image: filename='054_VP48_frame0814.png', path='data/data/Piccolo/train/images/054_VP48_frame0814.png', mask=data/data/Piccolo/train/masks/054_VP48_frame0814_Corrected.tif\n",
      "bad image: filename='054_VP48_frame0790.png', path='data/data/Piccolo/train/images/054_VP48_frame0790.png', mask=data/data/Piccolo/train/masks/054_VP48_frame0790_Corrected.tif\n",
      "bad image: filename='020_VP22_frame3746.png', path='data/data/Piccolo/train/images/020_VP22_frame3746.png', mask=data/data/Piccolo/train/masks/020_VP22_frame3746_Corrected.tif\n",
      "bad image: filename='020_VP22_frame3964.png', path='data/data/Piccolo/train/images/020_VP22_frame3964.png', mask=data/data/Piccolo/train/masks/020_VP22_frame3964_Corrected.tif\n",
      "bad image: filename='020_VP22_frame4210.png', path='data/data/Piccolo/train/images/020_VP22_frame4210.png', mask=data/data/Piccolo/train/masks/020_VP22_frame4210_Corrected.tif\n",
      "bad image: filename='040_VP33_frame0051.png', path='data/data/Piccolo/train/images/040_VP33_frame0051.png', mask=data/data/Piccolo/train/masks/040_VP33_frame0051_Corrected.tif\n",
      "bad image: filename='020_VP22_frame4383.png', path='data/data/Piccolo/train/images/020_VP22_frame4383.png', mask=data/data/Piccolo/train/masks/020_VP22_frame4383_Corrected.tif\n",
      "bad image: filename='020_VP22_frame4233.png', path='data/data/Piccolo/train/images/020_VP22_frame4233.png', mask=data/data/Piccolo/train/masks/020_VP22_frame4233_Corrected.tif\n",
      "bad image: filename='020_VP22_frame3833.png', path='data/data/Piccolo/train/images/020_VP22_frame3833.png', mask=data/data/Piccolo/train/masks/020_VP22_frame3833_Corrected.tif\n",
      "bad image: filename='058_VP15_frame0959.png', path='data/data/Piccolo/train/images/058_VP15_frame0959.png', mask=data/data/Piccolo/train/masks/058_VP15_frame0959_Corrected.tif\n",
      "bad image: filename='058_VP15_frame0384.png', path='data/data/Piccolo/train/images/058_VP15_frame0384.png', mask=data/data/Piccolo/train/masks/058_VP15_frame0384_Corrected.tif\n",
      "bad image: filename='040_VP33_frame0000.png', path='data/data/Piccolo/train/images/040_VP33_frame0000.png', mask=data/data/Piccolo/train/masks/040_VP33_frame0000_Corrected.tif\n",
      "bad image: filename='020_VP22_frame4053.png', path='data/data/Piccolo/train/images/020_VP22_frame4053.png', mask=data/data/Piccolo/train/masks/020_VP22_frame4053_Corrected.tif\n",
      "bad image: filename='020_VP22_frame3661.png', path='data/data/Piccolo/train/images/020_VP22_frame3661.png', mask=data/data/Piccolo/train/masks/020_VP22_frame3661_Corrected.tif\n",
      "bad image: filename='054_VP48_frame0766.png', path='data/data/Piccolo/train/images/054_VP48_frame0766.png', mask=data/data/Piccolo/train/masks/054_VP48_frame0766_Corrected.tif\n",
      "bad image: filename='059_VP17_frame2400.png', path='data/data/Piccolo/validation/images/059_VP17_frame2400.png', mask=data/data/Piccolo/validation/masks/059_VP17_frame2400_Corrected.tif\n",
      "bad image: filename='059_VP17_frame2210.png', path='data/data/Piccolo/validation/images/059_VP17_frame2210.png', mask=data/data/Piccolo/validation/masks/059_VP17_frame2210_Corrected.tif\n",
      "bad image: filename='062_VP18_frame0557.png', path='data/data/Piccolo/validation/images/062_VP18_frame0557.png', mask=data/data/Piccolo/validation/masks/062_VP18_frame0557_Corrected.tif\n",
      "bad image: filename='060_VP17_frame0904.png', path='data/data/Piccolo/validation/images/060_VP17_frame0904.png', mask=data/data/Piccolo/validation/masks/060_VP17_frame0904_Corrected.tif\n",
      "bad image: filename='059_VP17_frame2365.png', path='data/data/Piccolo/validation/images/059_VP17_frame2365.png', mask=data/data/Piccolo/validation/masks/059_VP17_frame2365_Corrected.tif\n",
      "bad image: filename='059_VP17_frame1907.png', path='data/data/Piccolo/validation/images/059_VP17_frame1907.png', mask=data/data/Piccolo/validation/masks/059_VP17_frame1907_Corrected.tif\n",
      "bad image: filename='035_VP31_frame1784.png', path='data/data/Piccolo/validation/images/035_VP31_frame1784.png', mask=data/data/Piccolo/validation/masks/035_VP31_frame1784_Corrected.tif\n",
      "bad image: filename='059_VP17_frame1340.png', path='data/data/Piccolo/validation/images/059_VP17_frame1340.png', mask=data/data/Piccolo/validation/masks/059_VP17_frame1340_Corrected.tif\n",
      "bad image: filename='059_VP17_frame2105.png', path='data/data/Piccolo/validation/images/059_VP17_frame2105.png', mask=data/data/Piccolo/validation/masks/059_VP17_frame2105_Corrected.tif\n",
      "bad image: filename='059_VP17_frame1435.png', path='data/data/Piccolo/validation/images/059_VP17_frame1435.png', mask=data/data/Piccolo/validation/masks/059_VP17_frame1435_Corrected.tif\n",
      "bad image: filename='059_VP17_frame1806.png', path='data/data/Piccolo/validation/images/059_VP17_frame1806.png', mask=data/data/Piccolo/validation/masks/059_VP17_frame1806_Corrected.tif\n",
      "bad image: filename='059_VP17_frame2286.png', path='data/data/Piccolo/validation/images/059_VP17_frame2286.png', mask=data/data/Piccolo/validation/masks/059_VP17_frame2286_Corrected.tif\n",
      "bad image: filename='037_VP31_frame0603.png', path='data/data/Piccolo/validation/images/037_VP31_frame0603.png', mask=data/data/Piccolo/validation/masks/037_VP31_frame0603_Corrected.tif\n",
      "bad image: filename='037_VP31_frame1469.png', path='data/data/Piccolo/validation/images/037_VP31_frame1469.png', mask=data/data/Piccolo/validation/masks/037_VP31_frame1469_Corrected.tif\n",
      "bad image: filename='037_VP31_frame1281.png', path='data/data/Piccolo/validation/images/037_VP31_frame1281.png', mask=data/data/Piccolo/validation/masks/037_VP31_frame1281_Corrected.tif\n",
      "bad image: filename='059_VP17_frame0050.png', path='data/data/Piccolo/validation/images/059_VP17_frame0050.png', mask=data/data/Piccolo/validation/masks/059_VP17_frame0050_Corrected.tif\n",
      "bad image: filename='059_VP17_frame2444.png', path='data/data/Piccolo/validation/images/059_VP17_frame2444.png', mask=data/data/Piccolo/validation/masks/059_VP17_frame2444_Corrected.tif\n",
      "bad image: filename='059_VP17_frame2081.png', path='data/data/Piccolo/validation/images/059_VP17_frame2081.png', mask=data/data/Piccolo/validation/masks/059_VP17_frame2081_Corrected.tif\n",
      "bad image: filename='059_VP17_frame1364.png', path='data/data/Piccolo/validation/images/059_VP17_frame1364.png', mask=data/data/Piccolo/validation/masks/059_VP17_frame1364_Corrected.tif\n",
      "bad image: filename='038_VP31_frame0632.png', path='data/data/Piccolo/validation/images/038_VP31_frame0632.png', mask=data/data/Piccolo/validation/masks/038_VP31_frame0632_Corrected.tif\n",
      "bad image: filename='059_VP17_frame1882.png', path='data/data/Piccolo/validation/images/059_VP17_frame1882.png', mask=data/data/Piccolo/validation/masks/059_VP17_frame1882_Corrected.tif\n",
      "bad image: filename='059_VP17_frame1932.png', path='data/data/Piccolo/validation/images/059_VP17_frame1932.png', mask=data/data/Piccolo/validation/masks/059_VP17_frame1932_Corrected.tif\n",
      "bad image: filename='061_VP18_frame0210.png', path='data/data/Piccolo/validation/images/061_VP18_frame0210.png', mask=data/data/Piccolo/validation/masks/061_VP18_frame0210_Corrected.tif\n",
      "bad image: filename='038_VP31_frame0269.png', path='data/data/Piccolo/validation/images/038_VP31_frame0269.png', mask=data/data/Piccolo/validation/masks/038_VP31_frame0269_Corrected.tif\n"
     ]
    }
   ],
   "source": [
    "for i in all_imgs:\n",
    "    j = os.path.join(PICCOLO_DIR, i.split('/')[-3], 'masks', i.split('/')[-1].split('.')[0] + '_Corrected.tif')\n",
    "    img = io.imread(i)\n",
    "    width = img.shape[1]\n",
    "    height = img.shape[0]\n",
    "    filename = i.split('/')[-1]\n",
    "    path = i\n",
    "    mask = io.imread(j)\n",
    "    if np.max(mask) == 0:\n",
    "        bad_images.append({'filename': filename, 'path': path, 'mask': j})\n",
    "        print(f'bad image: {filename=}, {path=}, mask={j}')\n",
    "        continue\n",
    "    mask = mask / np.max(mask)\n",
    "    num_objs = len(np.unique(mask))\n",
    "    for i in range(1, num_objs):\n",
    "        pos = np.where(mask == i)\n",
    "        xmin = np.min(pos[1])\n",
    "        xmax = np.max(pos[1])\n",
    "        ymin = np.min(pos[0])\n",
    "        ymax = np.max(pos[0])\n",
    "        piccolo_dict['filename'].append(filename)\n",
    "        piccolo_dict['path'].append(path)\n",
    "        piccolo_dict['xmin'].append(xmin)\n",
    "        piccolo_dict['ymin'].append(ymin)\n",
    "        piccolo_dict['xmax'].append(xmax)\n",
    "        piccolo_dict['ymax'].append(ymax)\n",
    "        piccolo_dict['class'].append(1)\n",
    "        piccolo_dict['width'].append(width)\n",
    "        piccolo_dict['height'].append(height)\n",
    "\n",
    "    "
   ]
  },
  {
   "cell_type": "code",
   "execution_count": 183,
   "metadata": {},
   "outputs": [],
   "source": [
    "for i in bad_images:\n",
    "    piccolo_dict['filename'].append(i['filename'])\n",
    "    piccolo_dict['path'].append(i['path'])\n",
    "    piccolo_dict['xmin'].append(1)\n",
    "    piccolo_dict['ymin'].append(1)\n",
    "    piccolo_dict['xmax'].append(3)\n",
    "    piccolo_dict['ymax'].append(3)\n",
    "    piccolo_dict['class'].append(0)\n",
    "    piccolo_dict['width'].append(0)\n",
    "    piccolo_dict['height'].append(0)"
   ]
  },
  {
   "cell_type": "code",
   "execution_count": 184,
   "metadata": {},
   "outputs": [],
   "source": [
    "df_piccolo = pd.DataFrame(piccolo_dict)"
   ]
  },
  {
   "cell_type": "code",
   "execution_count": 186,
   "metadata": {},
   "outputs": [],
   "source": [
    "df_piccolo.to_csv('data/data/Piccolo.csv')"
   ]
  },
  {
   "attachments": {},
   "cell_type": "markdown",
   "metadata": {},
   "source": [
    "## CVC-ClinicDB"
   ]
  },
  {
   "cell_type": "markdown",
   "metadata": {},
   "source": []
  },
  {
   "cell_type": "code",
   "execution_count": 187,
   "metadata": {},
   "outputs": [],
   "source": [
    "all_imgs = glob.glob(os.path.join(CVC_CLINICDB_DIR, '*', 'images', '*.png'))"
   ]
  },
  {
   "cell_type": "code",
   "execution_count": 188,
   "metadata": {},
   "outputs": [],
   "source": [
    "cvc_clinicdb_dict = {'filename': [], 'path': [], 'xmin': [], 'ymin': [], 'xmax': [], 'ymax': [], 'class': [], 'width': [], 'height': []}"
   ]
  },
  {
   "cell_type": "code",
   "execution_count": 192,
   "metadata": {},
   "outputs": [],
   "source": [
    "for i in all_imgs:\n",
    "    j = os.path.join(CVC_CLINICDB_DIR, i.split('/')[-3], 'masks', i.split('/')[-1])\n",
    "    img = io.imread(i)\n",
    "    width = img.shape[1]\n",
    "    height = img.shape[0]\n",
    "    filename = i.split('/')[-1]\n",
    "    path = i\n",
    "    mask = io.imread(j)\n",
    "    mask[mask < 255] = 0\n",
    "    mask = mask / np.max(mask)\n",
    "    num_objs = len(np.unique(mask))\n",
    "    for i in range(1, num_objs):\n",
    "        pos = np.where(mask == i)\n",
    "        xmin = np.min(pos[1])\n",
    "        xmax = np.max(pos[1])\n",
    "        ymin = np.min(pos[0])\n",
    "        ymax = np.max(pos[0])\n",
    "        cvc_clinicdb_dict['filename'].append(filename)\n",
    "        cvc_clinicdb_dict['path'].append(path)\n",
    "        cvc_clinicdb_dict['xmin'].append(xmin)\n",
    "        cvc_clinicdb_dict['ymin'].append(ymin)\n",
    "        cvc_clinicdb_dict['xmax'].append(xmax)\n",
    "        cvc_clinicdb_dict['ymax'].append(ymax)\n",
    "        cvc_clinicdb_dict['class'].append(1)\n",
    "        cvc_clinicdb_dict['width'].append(width)\n",
    "        cvc_clinicdb_dict['height'].append(height)"
   ]
  },
  {
   "cell_type": "code",
   "execution_count": 193,
   "metadata": {},
   "outputs": [],
   "source": [
    "df_cvc_clinicdb = pd.DataFrame(cvc_clinicdb_dict)"
   ]
  },
  {
   "cell_type": "code",
   "execution_count": 196,
   "metadata": {},
   "outputs": [],
   "source": [
    "df_cvc_clinicdb.to_csv('data/data/CVC_ClinicDB.csv')"
   ]
  },
  {
   "attachments": {},
   "cell_type": "markdown",
   "metadata": {},
   "source": [
    "## Kvasir"
   ]
  },
  {
   "cell_type": "code",
   "execution_count": 198,
   "metadata": {},
   "outputs": [],
   "source": [
    "all_imgs = glob.glob(os.path.join(KVASIR_DIR, '*', 'images', '*.png'))"
   ]
  },
  {
   "cell_type": "code",
   "execution_count": 199,
   "metadata": {},
   "outputs": [],
   "source": [
    "all_masks = glob.glob(os.path.join(KVASIR_DIR, '*', 'masks', '*.png'))"
   ]
  },
  {
   "cell_type": "code",
   "execution_count": 200,
   "metadata": {},
   "outputs": [],
   "source": [
    "mask = io.imread(all_masks[0])"
   ]
  },
  {
   "cell_type": "code",
   "execution_count": 202,
   "metadata": {},
   "outputs": [
    {
     "data": {
      "text/plain": [
       "array([  0,   1,   2,   3,   4,   5,   6,   7, 248, 249, 250, 251, 252,\n",
       "       253, 254, 255], dtype=uint8)"
      ]
     },
     "execution_count": 202,
     "metadata": {},
     "output_type": "execute_result"
    }
   ],
   "source": [
    "np.unique(mask)"
   ]
  },
  {
   "cell_type": "code",
   "execution_count": 203,
   "metadata": {},
   "outputs": [],
   "source": [
    "kvasir_dict = {'filename': [], 'path': [], 'xmin': [], 'ymin': [], 'xmax': [], 'ymax': [], 'class': [], 'width': [], 'height': []}"
   ]
  },
  {
   "cell_type": "code",
   "execution_count": 204,
   "metadata": {},
   "outputs": [],
   "source": [
    "for i in all_imgs:\n",
    "    j = os.path.join(KVASIR_DIR, i.split('/')[-3], 'masks', i.split('/')[-1])\n",
    "    img = io.imread(i)\n",
    "    width = img.shape[1]\n",
    "    height = img.shape[0]\n",
    "    filename = i.split('/')[-1]\n",
    "    path = i\n",
    "    mask = io.imread(j)\n",
    "    mask[mask < 255] = 0\n",
    "    mask = mask / np.max(mask)\n",
    "    num_objs = len(np.unique(mask))\n",
    "    for i in range(1, num_objs):\n",
    "        pos = np.where(mask == i)\n",
    "        xmin = np.min(pos[1])\n",
    "        xmax = np.max(pos[1])\n",
    "        ymin = np.min(pos[0])\n",
    "        ymax = np.max(pos[0])\n",
    "        kvasir_dict['filename'].append(filename)\n",
    "        kvasir_dict['path'].append(path)\n",
    "        kvasir_dict['xmin'].append(xmin)\n",
    "        kvasir_dict['ymin'].append(ymin)\n",
    "        kvasir_dict['xmax'].append(xmax)\n",
    "        kvasir_dict['ymax'].append(ymax)\n",
    "        kvasir_dict['class'].append(1)\n",
    "        kvasir_dict['width'].append(width)\n",
    "        kvasir_dict['height'].append(height)"
   ]
  },
  {
   "cell_type": "code",
   "execution_count": 205,
   "metadata": {},
   "outputs": [],
   "source": [
    "df_kvasir = pd.DataFrame(kvasir_dict)"
   ]
  },
  {
   "cell_type": "code",
   "execution_count": 206,
   "metadata": {},
   "outputs": [
    {
     "data": {
      "text/html": [
       "<div>\n",
       "<style scoped>\n",
       "    .dataframe tbody tr th:only-of-type {\n",
       "        vertical-align: middle;\n",
       "    }\n",
       "\n",
       "    .dataframe tbody tr th {\n",
       "        vertical-align: top;\n",
       "    }\n",
       "\n",
       "    .dataframe thead th {\n",
       "        text-align: right;\n",
       "    }\n",
       "</style>\n",
       "<table border=\"1\" class=\"dataframe\">\n",
       "  <thead>\n",
       "    <tr style=\"text-align: right;\">\n",
       "      <th></th>\n",
       "      <th>filename</th>\n",
       "      <th>path</th>\n",
       "      <th>xmin</th>\n",
       "      <th>ymin</th>\n",
       "      <th>xmax</th>\n",
       "      <th>ymax</th>\n",
       "      <th>class</th>\n",
       "      <th>width</th>\n",
       "      <th>height</th>\n",
       "    </tr>\n",
       "  </thead>\n",
       "  <tbody>\n",
       "    <tr>\n",
       "      <th>0</th>\n",
       "      <td>cju42qet0lsq90871e50xbnuv.png</td>\n",
       "      <td>data/data/Kvasir/train/images/cju42qet0lsq9087...</td>\n",
       "      <td>228</td>\n",
       "      <td>84</td>\n",
       "      <td>387</td>\n",
       "      <td>280</td>\n",
       "      <td>1</td>\n",
       "      <td>598</td>\n",
       "      <td>531</td>\n",
       "    </tr>\n",
       "    <tr>\n",
       "      <th>1</th>\n",
       "      <td>cju1fj6axwfp30835ukhuzhw9.png</td>\n",
       "      <td>data/data/Kvasir/train/images/cju1fj6axwfp3083...</td>\n",
       "      <td>0</td>\n",
       "      <td>0</td>\n",
       "      <td>575</td>\n",
       "      <td>376</td>\n",
       "      <td>1</td>\n",
       "      <td>576</td>\n",
       "      <td>547</td>\n",
       "    </tr>\n",
       "    <tr>\n",
       "      <th>2</th>\n",
       "      <td>cju8czvnztbf40871b4m7t78w.png</td>\n",
       "      <td>data/data/Kvasir/train/images/cju8czvnztbf4087...</td>\n",
       "      <td>118</td>\n",
       "      <td>209</td>\n",
       "      <td>400</td>\n",
       "      <td>470</td>\n",
       "      <td>1</td>\n",
       "      <td>626</td>\n",
       "      <td>546</td>\n",
       "    </tr>\n",
       "    <tr>\n",
       "      <th>3</th>\n",
       "      <td>cju1f320ewfyu0988ndz6blh5.png</td>\n",
       "      <td>data/data/Kvasir/train/images/cju1f320ewfyu098...</td>\n",
       "      <td>173</td>\n",
       "      <td>300</td>\n",
       "      <td>476</td>\n",
       "      <td>511</td>\n",
       "      <td>1</td>\n",
       "      <td>571</td>\n",
       "      <td>530</td>\n",
       "    </tr>\n",
       "    <tr>\n",
       "      <th>4</th>\n",
       "      <td>cju2r7h21sj9608354gzks3ae.png</td>\n",
       "      <td>data/data/Kvasir/train/images/cju2r7h21sj96083...</td>\n",
       "      <td>264</td>\n",
       "      <td>307</td>\n",
       "      <td>400</td>\n",
       "      <td>402</td>\n",
       "      <td>1</td>\n",
       "      <td>614</td>\n",
       "      <td>530</td>\n",
       "    </tr>\n",
       "  </tbody>\n",
       "</table>\n",
       "</div>"
      ],
      "text/plain": [
       "                        filename  \\\n",
       "0  cju42qet0lsq90871e50xbnuv.png   \n",
       "1  cju1fj6axwfp30835ukhuzhw9.png   \n",
       "2  cju8czvnztbf40871b4m7t78w.png   \n",
       "3  cju1f320ewfyu0988ndz6blh5.png   \n",
       "4  cju2r7h21sj9608354gzks3ae.png   \n",
       "\n",
       "                                                path  xmin  ymin  xmax  ymax  \\\n",
       "0  data/data/Kvasir/train/images/cju42qet0lsq9087...   228    84   387   280   \n",
       "1  data/data/Kvasir/train/images/cju1fj6axwfp3083...     0     0   575   376   \n",
       "2  data/data/Kvasir/train/images/cju8czvnztbf4087...   118   209   400   470   \n",
       "3  data/data/Kvasir/train/images/cju1f320ewfyu098...   173   300   476   511   \n",
       "4  data/data/Kvasir/train/images/cju2r7h21sj96083...   264   307   400   402   \n",
       "\n",
       "   class  width  height  \n",
       "0      1    598     531  \n",
       "1      1    576     547  \n",
       "2      1    626     546  \n",
       "3      1    571     530  \n",
       "4      1    614     530  "
      ]
     },
     "execution_count": 206,
     "metadata": {},
     "output_type": "execute_result"
    }
   ],
   "source": [
    "df_kvasir.head()"
   ]
  },
  {
   "cell_type": "code",
   "execution_count": 207,
   "metadata": {},
   "outputs": [
    {
     "data": {
      "text/html": [
       "<div>\n",
       "<style scoped>\n",
       "    .dataframe tbody tr th:only-of-type {\n",
       "        vertical-align: middle;\n",
       "    }\n",
       "\n",
       "    .dataframe tbody tr th {\n",
       "        vertical-align: top;\n",
       "    }\n",
       "\n",
       "    .dataframe thead th {\n",
       "        text-align: right;\n",
       "    }\n",
       "</style>\n",
       "<table border=\"1\" class=\"dataframe\">\n",
       "  <thead>\n",
       "    <tr style=\"text-align: right;\">\n",
       "      <th></th>\n",
       "      <th>xmin</th>\n",
       "      <th>ymin</th>\n",
       "      <th>xmax</th>\n",
       "      <th>ymax</th>\n",
       "      <th>class</th>\n",
       "      <th>width</th>\n",
       "      <th>height</th>\n",
       "    </tr>\n",
       "  </thead>\n",
       "  <tbody>\n",
       "    <tr>\n",
       "      <th>count</th>\n",
       "      <td>991.000000</td>\n",
       "      <td>991.000000</td>\n",
       "      <td>991.000000</td>\n",
       "      <td>991.000000</td>\n",
       "      <td>991.0</td>\n",
       "      <td>991.000000</td>\n",
       "      <td>991.000000</td>\n",
       "    </tr>\n",
       "    <tr>\n",
       "      <th>mean</th>\n",
       "      <td>191.434914</td>\n",
       "      <td>130.119072</td>\n",
       "      <td>469.642785</td>\n",
       "      <td>412.603431</td>\n",
       "      <td>1.0</td>\n",
       "      <td>625.007064</td>\n",
       "      <td>545.193744</td>\n",
       "    </tr>\n",
       "    <tr>\n",
       "      <th>std</th>\n",
       "      <td>126.795204</td>\n",
       "      <td>104.663945</td>\n",
       "      <td>130.449408</td>\n",
       "      <td>125.760166</td>\n",
       "      <td>0.0</td>\n",
       "      <td>130.058584</td>\n",
       "      <td>91.071860</td>\n",
       "    </tr>\n",
       "    <tr>\n",
       "      <th>min</th>\n",
       "      <td>0.000000</td>\n",
       "      <td>0.000000</td>\n",
       "      <td>157.000000</td>\n",
       "      <td>87.000000</td>\n",
       "      <td>1.0</td>\n",
       "      <td>332.000000</td>\n",
       "      <td>352.000000</td>\n",
       "    </tr>\n",
       "    <tr>\n",
       "      <th>25%</th>\n",
       "      <td>91.000000</td>\n",
       "      <td>37.000000</td>\n",
       "      <td>387.000000</td>\n",
       "      <td>336.000000</td>\n",
       "      <td>1.0</td>\n",
       "      <td>591.000000</td>\n",
       "      <td>529.000000</td>\n",
       "    </tr>\n",
       "    <tr>\n",
       "      <th>50%</th>\n",
       "      <td>202.000000</td>\n",
       "      <td>121.000000</td>\n",
       "      <td>461.000000</td>\n",
       "      <td>408.000000</td>\n",
       "      <td>1.0</td>\n",
       "      <td>621.000000</td>\n",
       "      <td>530.000000</td>\n",
       "    </tr>\n",
       "    <tr>\n",
       "      <th>75%</th>\n",
       "      <td>287.000000</td>\n",
       "      <td>205.000000</td>\n",
       "      <td>540.000000</td>\n",
       "      <td>487.000000</td>\n",
       "      <td>1.0</td>\n",
       "      <td>622.000000</td>\n",
       "      <td>531.000000</td>\n",
       "    </tr>\n",
       "    <tr>\n",
       "      <th>max</th>\n",
       "      <td>668.000000</td>\n",
       "      <td>757.000000</td>\n",
       "      <td>1347.000000</td>\n",
       "      <td>1069.000000</td>\n",
       "      <td>1.0</td>\n",
       "      <td>1920.000000</td>\n",
       "      <td>1072.000000</td>\n",
       "    </tr>\n",
       "  </tbody>\n",
       "</table>\n",
       "</div>"
      ],
      "text/plain": [
       "             xmin        ymin         xmax         ymax  class        width  \\\n",
       "count  991.000000  991.000000   991.000000   991.000000  991.0   991.000000   \n",
       "mean   191.434914  130.119072   469.642785   412.603431    1.0   625.007064   \n",
       "std    126.795204  104.663945   130.449408   125.760166    0.0   130.058584   \n",
       "min      0.000000    0.000000   157.000000    87.000000    1.0   332.000000   \n",
       "25%     91.000000   37.000000   387.000000   336.000000    1.0   591.000000   \n",
       "50%    202.000000  121.000000   461.000000   408.000000    1.0   621.000000   \n",
       "75%    287.000000  205.000000   540.000000   487.000000    1.0   622.000000   \n",
       "max    668.000000  757.000000  1347.000000  1069.000000    1.0  1920.000000   \n",
       "\n",
       "            height  \n",
       "count   991.000000  \n",
       "mean    545.193744  \n",
       "std      91.071860  \n",
       "min     352.000000  \n",
       "25%     529.000000  \n",
       "50%     530.000000  \n",
       "75%     531.000000  \n",
       "max    1072.000000  "
      ]
     },
     "execution_count": 207,
     "metadata": {},
     "output_type": "execute_result"
    }
   ],
   "source": [
    "df_kvasir.describe()"
   ]
  },
  {
   "cell_type": "code",
   "execution_count": 208,
   "metadata": {},
   "outputs": [],
   "source": [
    "df_kvasir.to_csv('data/data/Kvasir.csv')"
   ]
  },
  {
   "attachments": {},
   "cell_type": "markdown",
   "metadata": {},
   "source": [
    "## ETIS"
   ]
  },
  {
   "cell_type": "code",
   "execution_count": 209,
   "metadata": {},
   "outputs": [],
   "source": [
    "all_imgs = glob.glob(os.path.join(ETIS_DIR, '*', 'images', '*.png'))"
   ]
  },
  {
   "cell_type": "code",
   "execution_count": 210,
   "metadata": {},
   "outputs": [],
   "source": [
    "etis_dict = {'filename': [], 'path': [], 'xmin': [], 'ymin': [], 'xmax': [], 'ymax': [], 'class': [], 'width': [], 'height': []}"
   ]
  },
  {
   "cell_type": "code",
   "execution_count": 211,
   "metadata": {},
   "outputs": [],
   "source": [
    "for i in all_imgs:\n",
    "    j = os.path.join(ETIS_DIR, i.split('/')[-3], 'masks', i.split('/')[-1])\n",
    "    img = io.imread(i)\n",
    "    width = img.shape[1]\n",
    "    height = img.shape[0]\n",
    "    filename = i.split('/')[-1]\n",
    "    path = i\n",
    "    mask = io.imread(j)\n",
    "    mask[mask < 255] = 0\n",
    "    mask = mask / np.max(mask)\n",
    "    num_objs = len(np.unique(mask))\n",
    "    for i in range(1, num_objs):\n",
    "        pos = np.where(mask == i)\n",
    "        xmin = np.min(pos[1])\n",
    "        xmax = np.max(pos[1])\n",
    "        ymin = np.min(pos[0])\n",
    "        ymax = np.max(pos[0])\n",
    "        etis_dict['filename'].append(filename)\n",
    "        etis_dict['path'].append(path)\n",
    "        etis_dict['xmin'].append(xmin)\n",
    "        etis_dict['ymin'].append(ymin)\n",
    "        etis_dict['xmax'].append(xmax)\n",
    "        etis_dict['ymax'].append(ymax)\n",
    "        etis_dict['class'].append(1)\n",
    "        etis_dict['width'].append(width)\n",
    "        etis_dict['height'].append(height)"
   ]
  },
  {
   "cell_type": "code",
   "execution_count": 212,
   "metadata": {},
   "outputs": [],
   "source": [
    "df_etis = pd.DataFrame(etis_dict)"
   ]
  },
  {
   "cell_type": "code",
   "execution_count": 213,
   "metadata": {},
   "outputs": [
    {
     "data": {
      "text/html": [
       "<div>\n",
       "<style scoped>\n",
       "    .dataframe tbody tr th:only-of-type {\n",
       "        vertical-align: middle;\n",
       "    }\n",
       "\n",
       "    .dataframe tbody tr th {\n",
       "        vertical-align: top;\n",
       "    }\n",
       "\n",
       "    .dataframe thead th {\n",
       "        text-align: right;\n",
       "    }\n",
       "</style>\n",
       "<table border=\"1\" class=\"dataframe\">\n",
       "  <thead>\n",
       "    <tr style=\"text-align: right;\">\n",
       "      <th></th>\n",
       "      <th>xmin</th>\n",
       "      <th>ymin</th>\n",
       "      <th>xmax</th>\n",
       "      <th>ymax</th>\n",
       "      <th>class</th>\n",
       "      <th>width</th>\n",
       "      <th>height</th>\n",
       "    </tr>\n",
       "  </thead>\n",
       "  <tbody>\n",
       "    <tr>\n",
       "      <th>count</th>\n",
       "      <td>196.000000</td>\n",
       "      <td>196.000000</td>\n",
       "      <td>196.000000</td>\n",
       "      <td>196.000000</td>\n",
       "      <td>196.0</td>\n",
       "      <td>196.0</td>\n",
       "      <td>196.0</td>\n",
       "    </tr>\n",
       "    <tr>\n",
       "      <th>mean</th>\n",
       "      <td>475.852041</td>\n",
       "      <td>406.969388</td>\n",
       "      <td>737.051020</td>\n",
       "      <td>646.035714</td>\n",
       "      <td>1.0</td>\n",
       "      <td>1225.0</td>\n",
       "      <td>966.0</td>\n",
       "    </tr>\n",
       "    <tr>\n",
       "      <th>std</th>\n",
       "      <td>253.349973</td>\n",
       "      <td>180.379455</td>\n",
       "      <td>253.194316</td>\n",
       "      <td>177.948606</td>\n",
       "      <td>0.0</td>\n",
       "      <td>0.0</td>\n",
       "      <td>0.0</td>\n",
       "    </tr>\n",
       "    <tr>\n",
       "      <th>min</th>\n",
       "      <td>0.000000</td>\n",
       "      <td>2.000000</td>\n",
       "      <td>167.000000</td>\n",
       "      <td>190.000000</td>\n",
       "      <td>1.0</td>\n",
       "      <td>1225.0</td>\n",
       "      <td>966.0</td>\n",
       "    </tr>\n",
       "    <tr>\n",
       "      <th>25%</th>\n",
       "      <td>295.750000</td>\n",
       "      <td>288.750000</td>\n",
       "      <td>560.500000</td>\n",
       "      <td>515.750000</td>\n",
       "      <td>1.0</td>\n",
       "      <td>1225.0</td>\n",
       "      <td>966.0</td>\n",
       "    </tr>\n",
       "    <tr>\n",
       "      <th>50%</th>\n",
       "      <td>452.000000</td>\n",
       "      <td>398.000000</td>\n",
       "      <td>741.500000</td>\n",
       "      <td>662.500000</td>\n",
       "      <td>1.0</td>\n",
       "      <td>1225.0</td>\n",
       "      <td>966.0</td>\n",
       "    </tr>\n",
       "    <tr>\n",
       "      <th>75%</th>\n",
       "      <td>684.750000</td>\n",
       "      <td>509.250000</td>\n",
       "      <td>922.250000</td>\n",
       "      <td>785.000000</td>\n",
       "      <td>1.0</td>\n",
       "      <td>1225.0</td>\n",
       "      <td>966.0</td>\n",
       "    </tr>\n",
       "    <tr>\n",
       "      <th>max</th>\n",
       "      <td>1036.000000</td>\n",
       "      <td>819.000000</td>\n",
       "      <td>1222.000000</td>\n",
       "      <td>955.000000</td>\n",
       "      <td>1.0</td>\n",
       "      <td>1225.0</td>\n",
       "      <td>966.0</td>\n",
       "    </tr>\n",
       "  </tbody>\n",
       "</table>\n",
       "</div>"
      ],
      "text/plain": [
       "              xmin        ymin         xmax        ymax  class   width  height\n",
       "count   196.000000  196.000000   196.000000  196.000000  196.0   196.0   196.0\n",
       "mean    475.852041  406.969388   737.051020  646.035714    1.0  1225.0   966.0\n",
       "std     253.349973  180.379455   253.194316  177.948606    0.0     0.0     0.0\n",
       "min       0.000000    2.000000   167.000000  190.000000    1.0  1225.0   966.0\n",
       "25%     295.750000  288.750000   560.500000  515.750000    1.0  1225.0   966.0\n",
       "50%     452.000000  398.000000   741.500000  662.500000    1.0  1225.0   966.0\n",
       "75%     684.750000  509.250000   922.250000  785.000000    1.0  1225.0   966.0\n",
       "max    1036.000000  819.000000  1222.000000  955.000000    1.0  1225.0   966.0"
      ]
     },
     "execution_count": 213,
     "metadata": {},
     "output_type": "execute_result"
    }
   ],
   "source": [
    "df_etis.describe()"
   ]
  },
  {
   "cell_type": "code",
   "execution_count": 214,
   "metadata": {},
   "outputs": [],
   "source": [
    "df_etis.to_csv('data/data/ETIS.csv')"
   ]
  },
  {
   "attachments": {},
   "cell_type": "markdown",
   "metadata": {},
   "source": [
    "# Combine all data frames into a single dataframe and save it as a csv file"
   ]
  },
  {
   "cell_type": "code",
   "execution_count": 215,
   "metadata": {},
   "outputs": [],
   "source": [
    "df_kaidong = pd.read_csv('data/data/KaiDong.csv')\n",
    "df_piccolo = pd.read_csv('data/data/Piccolo.csv')\n",
    "df_cvc_clinicdb = pd.read_csv('data/data/CVC_ClinicDB.csv')\n",
    "df_kvasir = pd.read_csv('data/data/Kvasir.csv')\n",
    "df_etis = pd.read_csv('data/data/ETIS.csv')\n",
    "\n",
    "df_all = pd.concat([df_kaidong, df_piccolo, df_cvc_clinicdb, df_kvasir, df_etis])"
   ]
  },
  {
   "cell_type": "code",
   "execution_count": 216,
   "metadata": {},
   "outputs": [
    {
     "data": {
      "text/html": [
       "<div>\n",
       "<style scoped>\n",
       "    .dataframe tbody tr th:only-of-type {\n",
       "        vertical-align: middle;\n",
       "    }\n",
       "\n",
       "    .dataframe tbody tr th {\n",
       "        vertical-align: top;\n",
       "    }\n",
       "\n",
       "    .dataframe thead th {\n",
       "        text-align: right;\n",
       "    }\n",
       "</style>\n",
       "<table border=\"1\" class=\"dataframe\">\n",
       "  <thead>\n",
       "    <tr style=\"text-align: right;\">\n",
       "      <th></th>\n",
       "      <th>Unnamed: 0</th>\n",
       "      <th>width</th>\n",
       "      <th>height</th>\n",
       "      <th>xmin</th>\n",
       "      <th>ymin</th>\n",
       "      <th>xmax</th>\n",
       "      <th>ymax</th>\n",
       "      <th>image_id</th>\n",
       "    </tr>\n",
       "  </thead>\n",
       "  <tbody>\n",
       "    <tr>\n",
       "      <th>count</th>\n",
       "      <td>45118.000000</td>\n",
       "      <td>45118.000000</td>\n",
       "      <td>45118.000000</td>\n",
       "      <td>45118.000000</td>\n",
       "      <td>45118.000000</td>\n",
       "      <td>45118.000000</td>\n",
       "      <td>45118.000000</td>\n",
       "      <td>38698.000000</td>\n",
       "    </tr>\n",
       "    <tr>\n",
       "      <th>mean</th>\n",
       "      <td>9974.544727</td>\n",
       "      <td>642.161798</td>\n",
       "      <td>474.667383</td>\n",
       "      <td>237.865952</td>\n",
       "      <td>171.087194</td>\n",
       "      <td>414.438317</td>\n",
       "      <td>337.017133</td>\n",
       "      <td>11335.460127</td>\n",
       "    </tr>\n",
       "    <tr>\n",
       "      <th>std</th>\n",
       "      <td>8891.388705</td>\n",
       "      <td>295.512428</td>\n",
       "      <td>154.877307</td>\n",
       "      <td>134.528662</td>\n",
       "      <td>97.023138</td>\n",
       "      <td>265.500844</td>\n",
       "      <td>174.425531</td>\n",
       "      <td>8877.869879</td>\n",
       "    </tr>\n",
       "    <tr>\n",
       "      <th>min</th>\n",
       "      <td>0.000000</td>\n",
       "      <td>0.000000</td>\n",
       "      <td>0.000000</td>\n",
       "      <td>0.000000</td>\n",
       "      <td>0.000000</td>\n",
       "      <td>3.000000</td>\n",
       "      <td>3.000000</td>\n",
       "      <td>0.000000</td>\n",
       "    </tr>\n",
       "    <tr>\n",
       "      <th>25%</th>\n",
       "      <td>2370.000000</td>\n",
       "      <td>544.000000</td>\n",
       "      <td>448.000000</td>\n",
       "      <td>163.000000</td>\n",
       "      <td>109.000000</td>\n",
       "      <td>302.000000</td>\n",
       "      <td>256.000000</td>\n",
       "      <td>3224.250000</td>\n",
       "    </tr>\n",
       "    <tr>\n",
       "      <th>50%</th>\n",
       "      <td>6213.500000</td>\n",
       "      <td>592.000000</td>\n",
       "      <td>464.000000</td>\n",
       "      <td>225.000000</td>\n",
       "      <td>169.000000</td>\n",
       "      <td>375.000000</td>\n",
       "      <td>327.000000</td>\n",
       "      <td>9423.500000</td>\n",
       "    </tr>\n",
       "    <tr>\n",
       "      <th>75%</th>\n",
       "      <td>17492.750000</td>\n",
       "      <td>622.000000</td>\n",
       "      <td>480.000000</td>\n",
       "      <td>289.000000</td>\n",
       "      <td>228.000000</td>\n",
       "      <td>453.000000</td>\n",
       "      <td>394.000000</td>\n",
       "      <td>19097.750000</td>\n",
       "    </tr>\n",
       "    <tr>\n",
       "      <th>max</th>\n",
       "      <td>28772.000000</td>\n",
       "      <td>1920.000000</td>\n",
       "      <td>1080.000000</td>\n",
       "      <td>1565.000000</td>\n",
       "      <td>961.000000</td>\n",
       "      <td>1803.000000</td>\n",
       "      <td>1079.000000</td>\n",
       "      <td>28772.000000</td>\n",
       "    </tr>\n",
       "  </tbody>\n",
       "</table>\n",
       "</div>"
      ],
      "text/plain": [
       "         Unnamed: 0         width        height          xmin          ymin  \\\n",
       "count  45118.000000  45118.000000  45118.000000  45118.000000  45118.000000   \n",
       "mean    9974.544727    642.161798    474.667383    237.865952    171.087194   \n",
       "std     8891.388705    295.512428    154.877307    134.528662     97.023138   \n",
       "min        0.000000      0.000000      0.000000      0.000000      0.000000   \n",
       "25%     2370.000000    544.000000    448.000000    163.000000    109.000000   \n",
       "50%     6213.500000    592.000000    464.000000    225.000000    169.000000   \n",
       "75%    17492.750000    622.000000    480.000000    289.000000    228.000000   \n",
       "max    28772.000000   1920.000000   1080.000000   1565.000000    961.000000   \n",
       "\n",
       "               xmax          ymax      image_id  \n",
       "count  45118.000000  45118.000000  38698.000000  \n",
       "mean     414.438317    337.017133  11335.460127  \n",
       "std      265.500844    174.425531   8877.869879  \n",
       "min        3.000000      3.000000      0.000000  \n",
       "25%      302.000000    256.000000   3224.250000  \n",
       "50%      375.000000    327.000000   9423.500000  \n",
       "75%      453.000000    394.000000  19097.750000  \n",
       "max     1803.000000   1079.000000  28772.000000  "
      ]
     },
     "execution_count": 216,
     "metadata": {},
     "output_type": "execute_result"
    }
   ],
   "source": [
    "df_all.describe()"
   ]
  },
  {
   "cell_type": "code",
   "execution_count": 219,
   "metadata": {},
   "outputs": [],
   "source": [
    "df_all.drop(columns=['image_id'], inplace=True)"
   ]
  },
  {
   "cell_type": "code",
   "execution_count": 220,
   "metadata": {},
   "outputs": [
    {
     "data": {
      "text/html": [
       "<div>\n",
       "<style scoped>\n",
       "    .dataframe tbody tr th:only-of-type {\n",
       "        vertical-align: middle;\n",
       "    }\n",
       "\n",
       "    .dataframe tbody tr th {\n",
       "        vertical-align: top;\n",
       "    }\n",
       "\n",
       "    .dataframe thead th {\n",
       "        text-align: right;\n",
       "    }\n",
       "</style>\n",
       "<table border=\"1\" class=\"dataframe\">\n",
       "  <thead>\n",
       "    <tr style=\"text-align: right;\">\n",
       "      <th></th>\n",
       "      <th>Unnamed: 0</th>\n",
       "      <th>width</th>\n",
       "      <th>height</th>\n",
       "      <th>xmin</th>\n",
       "      <th>ymin</th>\n",
       "      <th>xmax</th>\n",
       "      <th>ymax</th>\n",
       "    </tr>\n",
       "  </thead>\n",
       "  <tbody>\n",
       "    <tr>\n",
       "      <th>count</th>\n",
       "      <td>45118.000000</td>\n",
       "      <td>45118.000000</td>\n",
       "      <td>45118.000000</td>\n",
       "      <td>45118.000000</td>\n",
       "      <td>45118.000000</td>\n",
       "      <td>45118.000000</td>\n",
       "      <td>45118.000000</td>\n",
       "    </tr>\n",
       "    <tr>\n",
       "      <th>mean</th>\n",
       "      <td>9974.544727</td>\n",
       "      <td>642.161798</td>\n",
       "      <td>474.667383</td>\n",
       "      <td>237.865952</td>\n",
       "      <td>171.087194</td>\n",
       "      <td>414.438317</td>\n",
       "      <td>337.017133</td>\n",
       "    </tr>\n",
       "    <tr>\n",
       "      <th>std</th>\n",
       "      <td>8891.388705</td>\n",
       "      <td>295.512428</td>\n",
       "      <td>154.877307</td>\n",
       "      <td>134.528662</td>\n",
       "      <td>97.023138</td>\n",
       "      <td>265.500844</td>\n",
       "      <td>174.425531</td>\n",
       "    </tr>\n",
       "    <tr>\n",
       "      <th>min</th>\n",
       "      <td>0.000000</td>\n",
       "      <td>0.000000</td>\n",
       "      <td>0.000000</td>\n",
       "      <td>0.000000</td>\n",
       "      <td>0.000000</td>\n",
       "      <td>3.000000</td>\n",
       "      <td>3.000000</td>\n",
       "    </tr>\n",
       "    <tr>\n",
       "      <th>25%</th>\n",
       "      <td>2370.000000</td>\n",
       "      <td>544.000000</td>\n",
       "      <td>448.000000</td>\n",
       "      <td>163.000000</td>\n",
       "      <td>109.000000</td>\n",
       "      <td>302.000000</td>\n",
       "      <td>256.000000</td>\n",
       "    </tr>\n",
       "    <tr>\n",
       "      <th>50%</th>\n",
       "      <td>6213.500000</td>\n",
       "      <td>592.000000</td>\n",
       "      <td>464.000000</td>\n",
       "      <td>225.000000</td>\n",
       "      <td>169.000000</td>\n",
       "      <td>375.000000</td>\n",
       "      <td>327.000000</td>\n",
       "    </tr>\n",
       "    <tr>\n",
       "      <th>75%</th>\n",
       "      <td>17492.750000</td>\n",
       "      <td>622.000000</td>\n",
       "      <td>480.000000</td>\n",
       "      <td>289.000000</td>\n",
       "      <td>228.000000</td>\n",
       "      <td>453.000000</td>\n",
       "      <td>394.000000</td>\n",
       "    </tr>\n",
       "    <tr>\n",
       "      <th>max</th>\n",
       "      <td>28772.000000</td>\n",
       "      <td>1920.000000</td>\n",
       "      <td>1080.000000</td>\n",
       "      <td>1565.000000</td>\n",
       "      <td>961.000000</td>\n",
       "      <td>1803.000000</td>\n",
       "      <td>1079.000000</td>\n",
       "    </tr>\n",
       "  </tbody>\n",
       "</table>\n",
       "</div>"
      ],
      "text/plain": [
       "         Unnamed: 0         width        height          xmin          ymin  \\\n",
       "count  45118.000000  45118.000000  45118.000000  45118.000000  45118.000000   \n",
       "mean    9974.544727    642.161798    474.667383    237.865952    171.087194   \n",
       "std     8891.388705    295.512428    154.877307    134.528662     97.023138   \n",
       "min        0.000000      0.000000      0.000000      0.000000      0.000000   \n",
       "25%     2370.000000    544.000000    448.000000    163.000000    109.000000   \n",
       "50%     6213.500000    592.000000    464.000000    225.000000    169.000000   \n",
       "75%    17492.750000    622.000000    480.000000    289.000000    228.000000   \n",
       "max    28772.000000   1920.000000   1080.000000   1565.000000    961.000000   \n",
       "\n",
       "               xmax          ymax  \n",
       "count  45118.000000  45118.000000  \n",
       "mean     414.438317    337.017133  \n",
       "std      265.500844    174.425531  \n",
       "min        3.000000      3.000000  \n",
       "25%      302.000000    256.000000  \n",
       "50%      375.000000    327.000000  \n",
       "75%      453.000000    394.000000  \n",
       "max     1803.000000   1079.000000  "
      ]
     },
     "execution_count": 220,
     "metadata": {},
     "output_type": "execute_result"
    }
   ],
   "source": [
    "df_all.describe()"
   ]
  },
  {
   "cell_type": "code",
   "execution_count": 221,
   "metadata": {},
   "outputs": [],
   "source": [
    "df_all.to_csv('data/data/all_data.csv')"
   ]
  },
  {
   "cell_type": "code",
   "execution_count": 222,
   "metadata": {},
   "outputs": [
    {
     "data": {
      "text/plain": [
       "45118"
      ]
     },
     "execution_count": 222,
     "metadata": {},
     "output_type": "execute_result"
    }
   ],
   "source": [
    "df_all['width'].count()"
   ]
  },
  {
   "cell_type": "code",
   "execution_count": 1,
   "metadata": {},
   "outputs": [
    {
     "name": "stderr",
     "output_type": "stream",
     "text": [
      "/Users/jarret/opt/anaconda3/envs/bolt-hlc/lib/python3.10/site-packages/torchvision/datapoints/__init__.py:12: UserWarning: The torchvision.datapoints and torchvision.transforms.v2 namespaces are still Beta. While we do not expect major breaking changes, some APIs may still change according to user feedback. Please submit any feedback you may have in this issue: https://github.com/pytorch/vision/issues/6753, and you can also check out https://github.com/pytorch/vision/issues/7319 to learn more about the APIs that we suspect might involve future changes. You can silence this warning by calling torchvision.disable_beta_transforms_warning().\n",
      "  warnings.warn(_BETA_TRANSFORMS_WARNING)\n",
      "/Users/jarret/opt/anaconda3/envs/bolt-hlc/lib/python3.10/site-packages/torchvision/transforms/v2/__init__.py:54: UserWarning: The torchvision.datapoints and torchvision.transforms.v2 namespaces are still Beta. While we do not expect major breaking changes, some APIs may still change according to user feedback. Please submit any feedback you may have in this issue: https://github.com/pytorch/vision/issues/6753, and you can also check out https://github.com/pytorch/vision/issues/7319 to learn more about the APIs that we suspect might involve future changes. You can silence this warning by calling torchvision.disable_beta_transforms_warning().\n",
      "  warnings.warn(_BETA_TRANSFORMS_WARNING)\n"
     ]
    }
   ],
   "source": [
    "from torchvision.transforms import v2 as T"
   ]
  },
  {
   "cell_type": "code",
   "execution_count": 1,
   "metadata": {},
   "outputs": [],
   "source": [
    "# Auo reload modules\n",
    "%load_ext autoreload\n",
    "%autoreload 2"
   ]
  },
  {
   "cell_type": "code",
   "execution_count": 36,
   "metadata": {},
   "outputs": [],
   "source": [
    "pdata = PolypsDataset(root_dir='data/data', stage='train')"
   ]
  },
  {
   "cell_type": "code",
   "execution_count": 22,
   "metadata": {},
   "outputs": [],
   "source": [
    "img, target = pdata[0]"
   ]
  },
  {
   "cell_type": "code",
   "execution_count": 2,
   "metadata": {},
   "outputs": [],
   "source": [
    "import matplotlib.pyplot as plt\n",
    "import numpy as np"
   ]
  },
  {
   "cell_type": "markdown",
   "metadata": {},
   "source": []
  },
  {
   "cell_type": "code",
   "execution_count": 160,
   "metadata": {},
   "outputs": [],
   "source": [
    "img, target = pdata[200]"
   ]
  },
  {
   "cell_type": "code",
   "execution_count": 165,
   "metadata": {},
   "outputs": [
    {
     "data": {
      "text/plain": [
       "torch.Size([3, 548, 700])"
      ]
     },
     "execution_count": 165,
     "metadata": {},
     "output_type": "execute_result"
    }
   ],
   "source": [
    "img.shape"
   ]
  },
  {
   "cell_type": "code",
   "execution_count": 91,
   "metadata": {},
   "outputs": [],
   "source": [
    "import cv2\n",
    "imgg = cv2.imread('data/data/CVC-ClinicDB/test/images/228.png')"
   ]
  },
  {
   "cell_type": "code",
   "execution_count": 94,
   "metadata": {},
   "outputs": [],
   "source": [
    "imgg = cv2.cvtColor(imgg, cv2.COLOR_BGR2RGB)"
   ]
  },
  {
   "cell_type": "code",
   "execution_count": 99,
   "metadata": {},
   "outputs": [],
   "source": [
    "imggg = cv2.resize(imgg, (1024, 512))"
   ]
  },
  {
   "cell_type": "code",
   "execution_count": 100,
   "metadata": {},
   "outputs": [
    {
     "data": {
      "text/plain": [
       "(512, 1024, 3)"
      ]
     },
     "execution_count": 100,
     "metadata": {},
     "output_type": "execute_result"
    }
   ],
   "source": [
    "imggg.shape"
   ]
  },
  {
   "cell_type": "code",
   "execution_count": 101,
   "metadata": {},
   "outputs": [
    {
     "data": {
      "text/plain": [
       "(288, 384, 3)"
      ]
     },
     "execution_count": 101,
     "metadata": {},
     "output_type": "execute_result"
    }
   ],
   "source": [
    "imgg.shape"
   ]
  },
  {
   "cell_type": "code",
   "execution_count": 111,
   "metadata": {},
   "outputs": [
    {
     "data": {
      "text/plain": [
       "tensor([], dtype=torch.int64)"
      ]
     },
     "execution_count": 111,
     "metadata": {},
     "output_type": "execute_result"
    }
   ],
   "source": [
    "target['labels']"
   ]
  },
  {
   "cell_type": "code",
   "execution_count": 163,
   "metadata": {},
   "outputs": [],
   "source": [
    "CLASSES = ['background', 'polyp']\n",
    "def visualize_sample(image, target):\n",
    "    box = target[\"boxes\"][0]\n",
    "    label = CLASSES[target[\"labels\"]]\n",
    "    if label != 'background':\n",
    "        cv2.rectangle(\n",
    "            image, \n",
    "            (int(box[0]), int(box[1])), \n",
    "            (int(box[2]), int(box[3])), (0, 255, 0), 1\n",
    "        )\n",
    "    cv2.putText(\n",
    "        image, \n",
    "        label, \n",
    "        (int(box[0]), int(box[1]) - 5), \n",
    "        cv2.FONT_HERSHEY_SIMPLEX, 0.7, (0, 0, 255), 2\n",
    "    )\n",
    "    plt.imshow(image)"
   ]
  },
  {
   "cell_type": "code",
   "execution_count": 48,
   "metadata": {},
   "outputs": [],
   "source": [
    "import albumentations as A\n",
    "from albumentations.pytorch import ToTensorV2\n",
    "from src.PolypsDataset import PolypsDataset\n",
    "from torch.utils.data import DataLoader\n",
    "bbox_params = A.BboxParams(\n",
    "            format='pascal_voc', \n",
    "            min_visibility=0.1, \n",
    "            min_area=128, \n",
    "            label_fields=['labels'])\n",
    "\n",
    "train_transform = A.Compose([\n",
    "            A.Flip(p=0.25),\n",
    "            A.RandomRotate90(p=0.15),\n",
    "            A.RandomBrightnessContrast(p=0.25),\n",
    "            A.MotionBlur(p=0.5),\n",
    "            A.MedianBlur(blur_limit=3, p=0.1),\n",
    "            A.Blur(blur_limit=3, p=0.1),\n",
    "            ToTensorV2(p=1.0),],\n",
    "        bbox_params=bbox_params)\n",
    "pdata =  PolypsDataset(root_dir='data', stage='validation', transforms=train_transform)"
   ]
  },
  {
   "cell_type": "code",
   "execution_count": 49,
   "metadata": {},
   "outputs": [],
   "source": [
    "from src.utils import collate_fn"
   ]
  },
  {
   "cell_type": "code",
   "execution_count": 50,
   "metadata": {},
   "outputs": [],
   "source": [
    "dl = DataLoader(pdata, batch_size=4, shuffle=True, num_workers=4, collate_fn=collate_fn)"
   ]
  },
  {
   "cell_type": "code",
   "execution_count": 51,
   "metadata": {},
   "outputs": [],
   "source": [
    "from tqdm import tqdm_notebook as tqdm\n",
    "from warnings import filterwarnings\n",
    "filterwarnings(\"ignore\")"
   ]
  },
  {
   "cell_type": "code",
   "execution_count": 52,
   "metadata": {},
   "outputs": [
    {
     "data": {
      "application/vnd.jupyter.widget-view+json": {
       "model_id": "466b07b776064449bef90739b6c3756f",
       "version_major": 2,
       "version_minor": 0
      },
      "text/plain": [
       "0it [00:00, ?it/s]"
      ]
     },
     "metadata": {},
     "output_type": "display_data"
    },
    {
     "name": "stdout",
     "output_type": "stream",
     "text": [
      "0\n",
      "1000\n"
     ]
    }
   ],
   "source": [
    "for i, (images, targets) in tqdm(enumerate(dl)):\n",
    "    if i % 1000 == 0:\n",
    "        print(i)"
   ]
  },
  {
   "cell_type": "code",
   "execution_count": null,
   "metadata": {},
   "outputs": [],
   "source": []
  }
 ],
 "metadata": {
  "kernelspec": {
   "display_name": "hidden-layer-cake",
   "language": "python",
   "name": "python3"
  },
  "language_info": {
   "codemirror_mode": {
    "name": "ipython",
    "version": 3
   },
   "file_extension": ".py",
   "mimetype": "text/x-python",
   "name": "python",
   "nbconvert_exporter": "python",
   "pygments_lexer": "ipython3",
   "version": "3.10.10"
  },
  "orig_nbformat": 4
 },
 "nbformat": 4,
 "nbformat_minor": 2
}
