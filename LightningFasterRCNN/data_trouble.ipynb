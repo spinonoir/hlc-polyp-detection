{
 "cells": [
  {
   "cell_type": "code",
   "execution_count": 43,
   "metadata": {},
   "outputs": [
    {
     "name": "stdout",
     "output_type": "stream",
     "text": [
      "The autoreload extension is already loaded. To reload it, use:\n",
      "  %reload_ext autoreload\n"
     ]
    }
   ],
   "source": [
    "%load_ext autoreload\n",
    "%autoreload 2\n",
    "import torch\n",
    "from torch.utils.data import DataLoader\n",
    "import os\n",
    "import albumentations as A\n",
    "from albumentations.pytorch import ToTensorV2\n",
    "from src.utils import collate_fn\n",
    "\n",
    "bbox_params = A.BboxParams(\n",
    "            format='pascal_voc', \n",
    "            min_visibility=0.1, \n",
    "            min_area=128, \n",
    "            label_fields=['labels'])\n",
    "\n",
    "train_transform = A.Compose([\n",
    "        A.Flip(p=0.25),\n",
    "        A.RandomRotate90(p=0.15),\n",
    "        A.RandomBrightnessContrast(p=0.25),\n",
    "        A.MotionBlur(p=0.5),\n",
    "        A.MedianBlur(blur_limit=3, p=0.1),\n",
    "        A.Blur(blur_limit=3, p=0.1),\n",
    "        ToTensorV2(p=1.0),],\n",
    "     bbox_params=(bbox_params))\n",
    "\n",
    "test_transform = A.Compose([\n",
    "            ToTensorV2(p=1.0),\n",
    "        ], bbox_params=bbox_params)"
   ]
  },
  {
   "cell_type": "code",
   "execution_count": 51,
   "metadata": {},
   "outputs": [],
   "source": [
    "from src.utils import collate_fn"
   ]
  },
  {
   "cell_type": "code",
   "execution_count": 47,
   "metadata": {},
   "outputs": [],
   "source": [
    "from src.PolypsDataset import PolypsDataset\n",
    "train_dataset = PolypsDataset(root_dir='./data', stage='train', transforms=train_transform, resize_to=1024)\n",
    "train_dl = DataLoader(\n",
    "            train_dataset, \n",
    "            batch_size=128, \n",
    "            shuffle=False, \n",
    "            num_workers=4, \n",
    "            pin_memory=True,\n",
    "            collate_fn=collate_fn)\n",
    "\n",
    "for batch in train_dl:\n",
    "    pass"
   ]
  },
  {
   "cell_type": "code",
   "execution_count": 55,
   "metadata": {},
   "outputs": [
    {
     "name": "stdout",
     "output_type": "stream",
     "text": [
      "100\n",
      "200\n",
      "300\n",
      "400\n",
      "500\n",
      "600\n",
      "700\n",
      "800\n",
      "900\n",
      "1000\n",
      "1100\n",
      "1200\n",
      "1300\n"
     ]
    }
   ],
   "source": [
    "from src.PolypsDataset import PolypsDataset\n",
    "val_dataset = PolypsDataset(root_dir='./data', stage='validation', transforms=train_transform, resize_to=1024)\n",
    "val_dl = DataLoader(\n",
    "            val_dataset, \n",
    "            batch_size=4, \n",
    "            shuffle=False, \n",
    "            num_workers=4,\n",
    "            pin_memory=True,\n",
    "            collate_fn=collate_fn)\n",
    "i = 0\n",
    "for batch in val_dl:\n",
    "    i += 1\n",
    "    if i % 100 == 0:\n",
    "        print(i)"
   ]
  },
  {
   "cell_type": "code",
   "execution_count": null,
   "metadata": {},
   "outputs": [],
   "source": [
    "test_dataset = PolypsDataset(root_dir='./data', stage='test', transforms=test_transform, resize_to=1024)\n",
    "test_dl = DataLoader(\n",
    "            test_dataset, \n",
    "            batch_size=128, \n",
    "            shuffle=False, \n",
    "            num_workers=4,\n",
    "            pin_memory=True,\n",
    "            collate_fn=collate_fn)\n",
    "\n",
    "for batch in test_dl:\n",
    "    pass"
   ]
  }
 ],
 "metadata": {
  "kernelspec": {
   "display_name": "hidden-layer-cake",
   "language": "python",
   "name": "python3"
  },
  "language_info": {
   "codemirror_mode": {
    "name": "ipython",
    "version": 3
   },
   "file_extension": ".py",
   "mimetype": "text/x-python",
   "name": "python",
   "nbconvert_exporter": "python",
   "pygments_lexer": "ipython3",
   "version": "3.10.10"
  },
  "orig_nbformat": 4
 },
 "nbformat": 4,
 "nbformat_minor": 2
}
