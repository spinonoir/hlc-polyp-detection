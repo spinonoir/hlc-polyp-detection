{
 "cells": [
  {
   "attachments": {},
   "cell_type": "markdown",
   "metadata": {},
   "source": [
    "# Faster-RCNN Training Regimine for Polyp Detection\n",
    "This notebook is setup to train a Faster-RCNN model for Polyp Detection on a paperspace machine wiht a GPU.   \n",
    "The current outputs were generated on an A100 GPU."
   ]
  },
  {
   "attachments": {},
   "cell_type": "markdown",
   "metadata": {},
   "source": [
    "### Install any dependencies using pip on the paperspace instance"
   ]
  },
  {
   "cell_type": "code",
   "execution_count": 1,
   "metadata": {
    "execution": {
     "iopub.execute_input": "2023-04-10T04:22:40.148826Z",
     "iopub.status.busy": "2023-04-10T04:22:40.148541Z",
     "iopub.status.idle": "2023-04-10T04:22:44.843428Z",
     "shell.execute_reply": "2023-04-10T04:22:44.842719Z",
     "shell.execute_reply.started": "2023-04-10T04:22:40.148805Z"
    }
   },
   "outputs": [
    {
     "name": "stdout",
     "output_type": "stream",
     "text": [
      "Collecting albumentations\n",
      "  Downloading albumentations-1.3.0-py3-none-any.whl (123 kB)\n",
      "\u001b[2K     \u001b[90m━━━━━━━━━━━━━━━━━━━━━━━━━━━━━━━━━━━━━━\u001b[0m \u001b[32m123.5/123.5 kB\u001b[0m \u001b[31m14.4 MB/s\u001b[0m eta \u001b[36m0:00:00\u001b[0m\n",
      "\u001b[?25hCollecting opencv-python-headless>=4.1.1\n",
      "  Downloading opencv_python_headless-4.7.0.72-cp37-abi3-manylinux_2_17_x86_64.manylinux2014_x86_64.whl (49.2 MB)\n",
      "\u001b[2K     \u001b[90m━━━━━━━━━━━━━━━━━━━━━━━━━━━━━━━━━━━━━━━━\u001b[0m \u001b[32m49.2/49.2 MB\u001b[0m \u001b[31m30.1 MB/s\u001b[0m eta \u001b[36m0:00:00\u001b[0m00:01\u001b[0m00:01\u001b[0m\n",
      "\u001b[?25hRequirement already satisfied: PyYAML in /usr/local/lib/python3.9/dist-packages (from albumentations) (5.4.1)\n",
      "Requirement already satisfied: scikit-image>=0.16.1 in /usr/local/lib/python3.9/dist-packages (from albumentations) (0.19.3)\n",
      "Requirement already satisfied: scipy in /usr/local/lib/python3.9/dist-packages (from albumentations) (1.9.2)\n",
      "Collecting qudida>=0.0.4\n",
      "  Downloading qudida-0.0.4-py3-none-any.whl (3.5 kB)\n",
      "Requirement already satisfied: numpy>=1.11.1 in /usr/local/lib/python3.9/dist-packages (from albumentations) (1.23.4)\n",
      "Requirement already satisfied: typing-extensions in /usr/local/lib/python3.9/dist-packages (from qudida>=0.0.4->albumentations) (4.4.0)\n",
      "Requirement already satisfied: scikit-learn>=0.19.1 in /usr/local/lib/python3.9/dist-packages (from qudida>=0.0.4->albumentations) (1.1.2)\n",
      "Requirement already satisfied: packaging>=20.0 in /usr/local/lib/python3.9/dist-packages (from scikit-image>=0.16.1->albumentations) (23.0)\n",
      "Requirement already satisfied: networkx>=2.2 in /usr/local/lib/python3.9/dist-packages (from scikit-image>=0.16.1->albumentations) (3.0)\n",
      "Requirement already satisfied: PyWavelets>=1.1.1 in /usr/local/lib/python3.9/dist-packages (from scikit-image>=0.16.1->albumentations) (1.4.1)\n",
      "Requirement already satisfied: pillow!=7.1.0,!=7.1.1,!=8.3.0,>=6.1.0 in /usr/local/lib/python3.9/dist-packages (from scikit-image>=0.16.1->albumentations) (9.2.0)\n",
      "Requirement already satisfied: imageio>=2.4.1 in /usr/local/lib/python3.9/dist-packages (from scikit-image>=0.16.1->albumentations) (2.25.0)\n",
      "Requirement already satisfied: tifffile>=2019.7.26 in /usr/local/lib/python3.9/dist-packages (from scikit-image>=0.16.1->albumentations) (2023.1.23.1)\n",
      "Requirement already satisfied: threadpoolctl>=2.0.0 in /usr/local/lib/python3.9/dist-packages (from scikit-learn>=0.19.1->qudida>=0.0.4->albumentations) (3.1.0)\n",
      "Requirement already satisfied: joblib>=1.0.0 in /usr/local/lib/python3.9/dist-packages (from scikit-learn>=0.19.1->qudida>=0.0.4->albumentations) (1.2.0)\n",
      "Installing collected packages: opencv-python-headless, qudida, albumentations\n",
      "Successfully installed albumentations-1.3.0 opencv-python-headless-4.7.0.72 qudida-0.0.4\n",
      "\u001b[33mWARNING: Running pip as the 'root' user can result in broken permissions and conflicting behaviour with the system package manager. It is recommended to use a virtual environment instead: https://pip.pypa.io/warnings/venv\u001b[0m\u001b[33m\n",
      "\u001b[0m"
     ]
    }
   ],
   "source": [
    "!pip install albumentations"
   ]
  },
  {
   "attachments": {},
   "cell_type": "markdown",
   "metadata": {},
   "source": [
    "## Imports and setup"
   ]
  },
  {
   "cell_type": "code",
   "execution_count": 2,
   "metadata": {
    "execution": {
     "iopub.execute_input": "2023-04-10T04:22:44.845031Z",
     "iopub.status.busy": "2023-04-10T04:22:44.844818Z",
     "iopub.status.idle": "2023-04-10T04:22:46.745307Z",
     "shell.execute_reply": "2023-04-10T04:22:46.744337Z",
     "shell.execute_reply.started": "2023-04-10T04:22:44.845010Z"
    }
   },
   "outputs": [],
   "source": [
    "import os\n",
    "from src.config import DEVICE, NUM_CLASSES, NUM_EPOCHS, OUTPUT_DIR\n",
    "from src.config import VISUALIZE_AFTER_TRANSFORM, SAVE_PLOTS_EPOCH, SAVE_MODEL_EPOCH, NUM_WORKERS\n",
    "from src.model import *\n",
    "from src.utils import Averager\n",
    "from tqdm import tqdm_notebook as tqdm\n",
    "from src.PolypDataset import get_dataloaders\n",
    "import torch\n",
    "import matplotlib.pyplot as plt\n",
    "import time\n",
    "plt.style.use('ggplot')\n",
    "%matplotlib inline\n",
    "\n",
    "import warnings\n",
    "warnings.filterwarnings('ignore')"
   ]
  },
  {
   "attachments": {},
   "cell_type": "markdown",
   "metadata": {},
   "source": [
    "### Tell Jupyter to reload the source files if they change"
   ]
  },
  {
   "cell_type": "code",
   "execution_count": 3,
   "metadata": {
    "execution": {
     "iopub.execute_input": "2023-04-10T04:22:46.746665Z",
     "iopub.status.busy": "2023-04-10T04:22:46.746318Z",
     "iopub.status.idle": "2023-04-10T04:22:46.777134Z",
     "shell.execute_reply": "2023-04-10T04:22:46.776663Z",
     "shell.execute_reply.started": "2023-04-10T04:22:46.746647Z"
    }
   },
   "outputs": [],
   "source": [
    "%load_ext autoreload\n",
    "%autoreload 2\n"
   ]
  },
  {
   "attachments": {},
   "cell_type": "markdown",
   "metadata": {},
   "source": [
    "## Instantiate the model, optimizer and dataloaders\n",
    "This code cell also initializes the data structures for storing losses as well as the model name. \n",
    "\n",
    "***change the model name prior to running a new experiment***"
   ]
  },
  {
   "cell_type": "code",
   "execution_count": 4,
   "metadata": {
    "execution": {
     "iopub.execute_input": "2023-04-10T04:23:10.557243Z",
     "iopub.status.busy": "2023-04-10T04:23:10.556949Z",
     "iopub.status.idle": "2023-04-10T04:23:13.526898Z",
     "shell.execute_reply": "2023-04-10T04:23:13.526283Z",
     "shell.execute_reply.started": "2023-04-10T04:23:10.557222Z"
    }
   },
   "outputs": [
    {
     "name": "stderr",
     "output_type": "stream",
     "text": [
      "Downloading: \"https://download.pytorch.org/models/fasterrcnn_resnet50_fpn_coco-258fb6c6.pth\" to /root/.cache/torch/hub/checkpoints/fasterrcnn_resnet50_fpn_coco-258fb6c6.pth\n"
     ]
    },
    {
     "data": {
      "application/vnd.jupyter.widget-view+json": {
       "model_id": "90e57eb2ced54b5aa821878429e90c77",
       "version_major": 2,
       "version_minor": 0
      },
      "text/plain": [
       "  0%|          | 0.00/160M [00:00<?, ?B/s]"
      ]
     },
     "metadata": {},
     "output_type": "display_data"
    },
    {
     "name": "stdout",
     "output_type": "stream",
     "text": [
      "Train dataset size: 28773\n",
      "Valid dataset size: 4254\n",
      "\n"
     ]
    }
   ],
   "source": [
    " # Initialize the model and move to GPU (if available)\n",
    "model = create_model(num_classes=NUM_CLASSES)\n",
    "model = model.to(DEVICE)\n",
    "#model = torch.nn.DataParallel(_model)\n",
    "\n",
    "\n",
    "# Obtain model parameters to be optimized/updated in this run.\n",
    "params = filter(lambda p: p.requires_grad, model.parameters())\n",
    "\n",
    "# Define the optimizer\n",
    "# TODO: Try out alternatives to SGD --> Maybe use the ABC algorithm \n",
    "optimizer = torch.optim.SGD(params, lr=0.001, momentum=0.9, weight_decay=0.0005)\n",
    "\n",
    "# Initialize training loss tracking variables for plotting\n",
    "train_loss_hist = Averager()\n",
    "train_iter = 1\n",
    "train_losses = []\n",
    "# Initialize validation loss tracking variables for plotting\n",
    "val_loss_hist = Averager()\n",
    "val_iter = 1\n",
    "val_losses = []\n",
    "\n",
    "# Give the model a name :-)\n",
    "MODEL_NAME = 'polyps_model_1'\n",
    "\n",
    "\n",
    "train_loader, valid_loader = get_dataloaders()\n",
    "\n",
    "# Show transformed images if VISUALIZE_AFTER_TRANSFORM is True\n",
    "# TODO: Don't use this until we have rewritten the show_transformed_images function\n",
    "# to work with pyplot instead of cv2\n",
    "if VISUALIZE_AFTER_TRANSFORM:\n",
    "    from src.utils import show_transformed_image\n",
    "    show_transformed_image(train_loader, model)\n",
    "\n"
   ]
  },
  {
   "attachments": {},
   "cell_type": "markdown",
   "metadata": {},
   "source": [
    "### The training loop function defined"
   ]
  },
  {
   "cell_type": "code",
   "execution_count": 5,
   "metadata": {
    "execution": {
     "iopub.execute_input": "2023-04-10T04:23:18.540880Z",
     "iopub.status.busy": "2023-04-10T04:23:18.540581Z",
     "iopub.status.idle": "2023-04-10T04:23:18.568432Z",
     "shell.execute_reply": "2023-04-10T04:23:18.567914Z",
     "shell.execute_reply.started": "2023-04-10T04:23:18.540858Z"
    }
   },
   "outputs": [],
   "source": [
    "# The training loop function\n",
    "def train(train_data_loader, model):\n",
    "    print('Training...')\n",
    "    global train_iter\n",
    "    global train_losses\n",
    "\n",
    "    # THE LOOP w/Beautiful progress bar\n",
    "    with tqdm(train_data_loader) as pbar:\n",
    "        for data in pbar:\n",
    "            # Get the images and targets from the data loader\n",
    "            images, targets = data\n",
    "\n",
    "            # Move the images and targets to the GPU\n",
    "            images = list(image.to(DEVICE) for image in images)\n",
    "            for target in targets:\n",
    "                target['boxes'] = target['boxes'].to(DEVICE)\n",
    "                target['labels'] = target['labels'].to(DEVICE)\n",
    "\n",
    "            # Zero the parameter gradients\n",
    "            optimizer.zero_grad()\n",
    "\n",
    "            # Forward pass\n",
    "            loss_dict = model(images, targets)\n",
    "\n",
    "            # Get the loss\n",
    "            losses = sum(loss for loss in loss_dict.values())\n",
    "\n",
    "            # Backward pass\n",
    "            losses.backward()\n",
    "\n",
    "            # Update the weights\n",
    "            optimizer.step()\n",
    "\n",
    "            # Update the losses\n",
    "            train_loss_hist.send(losses.item())\n",
    "            train_iter += 1\n",
    "            \n",
    "            # Update the progress bar\n",
    "            pbar.set_postfix(loss=losses.item())\n",
    "            # pbar.update(1)\n",
    "\n",
    "    return train_losses \n"
   ]
  },
  {
   "attachments": {},
   "cell_type": "markdown",
   "metadata": {},
   "source": [
    "### The validation loop function definded"
   ]
  },
  {
   "cell_type": "code",
   "execution_count": 6,
   "metadata": {
    "execution": {
     "iopub.execute_input": "2023-04-10T04:23:21.216850Z",
     "iopub.status.busy": "2023-04-10T04:23:21.216555Z",
     "iopub.status.idle": "2023-04-10T04:23:21.244303Z",
     "shell.execute_reply": "2023-04-10T04:23:21.243765Z",
     "shell.execute_reply.started": "2023-04-10T04:23:21.216829Z"
    }
   },
   "outputs": [],
   "source": [
    "\n",
    "# The validation loop function\n",
    "def validate(val_data_loader, model):\n",
    "    print('Validating...')\n",
    "    global val_iter \n",
    "    global val_losses\n",
    "\n",
    "    # THE LOOP w/Beautiful progress bar\n",
    "    with tqdm(val_data_loader) as pbar:\n",
    "        for data in pbar:\n",
    "            # Get the images and targets from the data loader\n",
    "            images, targets = data\n",
    "\n",
    "            # Move the images and targets to the GPU\n",
    "            images = list(image.to(DEVICE) for image in images)\n",
    "            targets = [{k: v.to(DEVICE) for k, v in t.items()} for t in targets]\n",
    "\n",
    "            # Forward pass\n",
    "            with torch.no_grad():\n",
    "                loss_dict = model(images, targets)\n",
    "\n",
    "            # Get the loss\n",
    "            losses = sum(loss for loss in loss_dict.values())\n",
    "            val_losses = losses.item()\n",
    "\n",
    "\n",
    "            # Update the losses\n",
    "            val_loss_hist.send(losses.item())\n",
    "            val_iter += 1\n",
    "            \n",
    "            # Update the progress bar\n",
    "            pbar.set_postfix(loss=losses.item())\n",
    "            # pbar.update(1)\n",
    "\n",
    "    return val_losses"
   ]
  },
  {
   "attachments": {},
   "cell_type": "markdown",
   "metadata": {},
   "source": [
    "## Train the Model\n",
    "Model weights are saved after `SAVE_MODEL_EPOCH` epochs.\n",
    "\n",
    "Loss plots are saved after `SAVE_PLOTS_EPOCH` epochs. ***This doesn't work for some reason***"
   ]
  },
  {
   "cell_type": "code",
   "execution_count": null,
   "metadata": {
    "execution": {
     "iopub.execute_input": "2023-04-10T04:23:24.101363Z",
     "iopub.status.busy": "2023-04-10T04:23:24.101067Z"
    }
   },
   "outputs": [
    {
     "name": "stdout",
     "output_type": "stream",
     "text": [
      "Epoch 1/15\n",
      "Training...\n"
     ]
    },
    {
     "data": {
      "application/vnd.jupyter.widget-view+json": {
       "model_id": "e871be61deac46d597190a563ceaf37e",
       "version_major": 2,
       "version_minor": 0
      },
      "text/plain": [
       "  0%|          | 0/899 [00:00<?, ?it/s]"
      ]
     },
     "metadata": {},
     "output_type": "display_data"
    },
    {
     "name": "stdout",
     "output_type": "stream",
     "text": [
      "Validating...\n"
     ]
    },
    {
     "data": {
      "application/vnd.jupyter.widget-view+json": {
       "model_id": "a0dbdf5ce3834b2a84536cc27798d145",
       "version_major": 2,
       "version_minor": 0
      },
      "text/plain": [
       "  0%|          | 0/132 [00:00<?, ?it/s]"
      ]
     },
     "metadata": {},
     "output_type": "display_data"
    },
    {
     "name": "stdout",
     "output_type": "stream",
     "text": [
      "Epoch 0 train loss: 0.120 val loss: 0.104\n",
      "Training time: 12.675min for 900 iterations\n",
      "Saved model to output/model0.pth\n",
      "Saved plots to output/[train or val]_loss0.png\n",
      "Epoch 2/15\n",
      "Training...\n"
     ]
    },
    {
     "data": {
      "application/vnd.jupyter.widget-view+json": {
       "model_id": "6c5900dd2ede4307b07a90b573afea75",
       "version_major": 2,
       "version_minor": 0
      },
      "text/plain": [
       "  0%|          | 0/899 [00:00<?, ?it/s]"
      ]
     },
     "metadata": {},
     "output_type": "display_data"
    },
    {
     "name": "stdout",
     "output_type": "stream",
     "text": [
      "Validating...\n"
     ]
    },
    {
     "data": {
      "application/vnd.jupyter.widget-view+json": {
       "model_id": "a8e920d79d414d2daf26864d9c65c294",
       "version_major": 2,
       "version_minor": 0
      },
      "text/plain": [
       "  0%|          | 0/132 [00:00<?, ?it/s]"
      ]
     },
     "metadata": {},
     "output_type": "display_data"
    },
    {
     "name": "stdout",
     "output_type": "stream",
     "text": [
      "Epoch 1 train loss: 0.090 val loss: 0.104\n",
      "Training time: 12.570min for 1799 iterations\n",
      "Epoch 3/15\n",
      "Training...\n"
     ]
    },
    {
     "data": {
      "application/vnd.jupyter.widget-view+json": {
       "model_id": "3503a09491a241c692e8d3aceb6a407b",
       "version_major": 2,
       "version_minor": 0
      },
      "text/plain": [
       "  0%|          | 0/899 [00:00<?, ?it/s]"
      ]
     },
     "metadata": {},
     "output_type": "display_data"
    },
    {
     "name": "stdout",
     "output_type": "stream",
     "text": [
      "Validating...\n"
     ]
    },
    {
     "data": {
      "application/vnd.jupyter.widget-view+json": {
       "model_id": "02553910a8c548299e940c5b6daa895f",
       "version_major": 2,
       "version_minor": 0
      },
      "text/plain": [
       "  0%|          | 0/132 [00:00<?, ?it/s]"
      ]
     },
     "metadata": {},
     "output_type": "display_data"
    },
    {
     "name": "stdout",
     "output_type": "stream",
     "text": [
      "Epoch 2 train loss: 0.084 val loss: 0.100\n",
      "Training time: 12.592min for 2698 iterations\n",
      "Saved plots to output/[train or val]_loss2.png\n",
      "Epoch 4/15\n",
      "Training...\n"
     ]
    },
    {
     "data": {
      "application/vnd.jupyter.widget-view+json": {
       "model_id": "8d3865f2ae194e69851fbfa3d6f25c49",
       "version_major": 2,
       "version_minor": 0
      },
      "text/plain": [
       "  0%|          | 0/899 [00:00<?, ?it/s]"
      ]
     },
     "metadata": {},
     "output_type": "display_data"
    },
    {
     "name": "stdout",
     "output_type": "stream",
     "text": [
      "Validating...\n"
     ]
    },
    {
     "data": {
      "application/vnd.jupyter.widget-view+json": {
       "model_id": "630a940cc3de41298e3d2bde385bb1fa",
       "version_major": 2,
       "version_minor": 0
      },
      "text/plain": [
       "  0%|          | 0/132 [00:00<?, ?it/s]"
      ]
     },
     "metadata": {},
     "output_type": "display_data"
    },
    {
     "name": "stdout",
     "output_type": "stream",
     "text": [
      "Epoch 3 train loss: 0.081 val loss: 0.102\n",
      "Training time: 12.668min for 3597 iterations\n",
      "Epoch 5/15\n",
      "Training...\n"
     ]
    },
    {
     "data": {
      "application/vnd.jupyter.widget-view+json": {
       "model_id": "0054d010a8d14a82a01e627f62edc065",
       "version_major": 2,
       "version_minor": 0
      },
      "text/plain": [
       "  0%|          | 0/899 [00:00<?, ?it/s]"
      ]
     },
     "metadata": {},
     "output_type": "display_data"
    },
    {
     "name": "stdout",
     "output_type": "stream",
     "text": [
      "Validating...\n"
     ]
    },
    {
     "data": {
      "application/vnd.jupyter.widget-view+json": {
       "model_id": "146c4b1a84ae4777aac0af4dbae103e3",
       "version_major": 2,
       "version_minor": 0
      },
      "text/plain": [
       "  0%|          | 0/132 [00:00<?, ?it/s]"
      ]
     },
     "metadata": {},
     "output_type": "display_data"
    },
    {
     "name": "stdout",
     "output_type": "stream",
     "text": [
      "Epoch 4 train loss: 0.079 val loss: 0.100\n",
      "Training time: 12.546min for 4496 iterations\n",
      "Saved plots to output/[train or val]_loss4.png\n",
      "Epoch 6/15\n",
      "Training...\n"
     ]
    },
    {
     "data": {
      "application/vnd.jupyter.widget-view+json": {
       "model_id": "41dc2c0db3f04feda13df22f72c17bc5",
       "version_major": 2,
       "version_minor": 0
      },
      "text/plain": [
       "  0%|          | 0/899 [00:00<?, ?it/s]"
      ]
     },
     "metadata": {},
     "output_type": "display_data"
    },
    {
     "name": "stdout",
     "output_type": "stream",
     "text": [
      "Validating...\n"
     ]
    },
    {
     "data": {
      "application/vnd.jupyter.widget-view+json": {
       "model_id": "a558f41bc86f4417a824241e184aeee0",
       "version_major": 2,
       "version_minor": 0
      },
      "text/plain": [
       "  0%|          | 0/132 [00:00<?, ?it/s]"
      ]
     },
     "metadata": {},
     "output_type": "display_data"
    },
    {
     "name": "stdout",
     "output_type": "stream",
     "text": [
      "Epoch 5 train loss: 0.076 val loss: 0.098\n",
      "Training time: 12.590min for 5395 iterations\n",
      "Saved model to output/model5.pth\n",
      "Epoch 7/15\n",
      "Training...\n"
     ]
    },
    {
     "data": {
      "application/vnd.jupyter.widget-view+json": {
       "model_id": "4e854550f54b482c85d81475c2b6f783",
       "version_major": 2,
       "version_minor": 0
      },
      "text/plain": [
       "  0%|          | 0/899 [00:00<?, ?it/s]"
      ]
     },
     "metadata": {},
     "output_type": "display_data"
    },
    {
     "name": "stdout",
     "output_type": "stream",
     "text": [
      "Validating...\n"
     ]
    },
    {
     "data": {
      "application/vnd.jupyter.widget-view+json": {
       "model_id": "a479d2136a874b4993ba1e32702bc2f0",
       "version_major": 2,
       "version_minor": 0
      },
      "text/plain": [
       "  0%|          | 0/132 [00:00<?, ?it/s]"
      ]
     },
     "metadata": {},
     "output_type": "display_data"
    },
    {
     "name": "stdout",
     "output_type": "stream",
     "text": [
      "Epoch 6 train loss: 0.074 val loss: 0.099\n",
      "Training time: 12.516min for 6294 iterations\n",
      "Saved plots to output/[train or val]_loss6.png\n",
      "Epoch 8/15\n",
      "Training...\n"
     ]
    },
    {
     "data": {
      "application/vnd.jupyter.widget-view+json": {
       "model_id": "71f974f8e9e4485597da1ce8522a1de3",
       "version_major": 2,
       "version_minor": 0
      },
      "text/plain": [
       "  0%|          | 0/899 [00:00<?, ?it/s]"
      ]
     },
     "metadata": {},
     "output_type": "display_data"
    },
    {
     "name": "stdout",
     "output_type": "stream",
     "text": [
      "Validating...\n"
     ]
    },
    {
     "data": {
      "application/vnd.jupyter.widget-view+json": {
       "model_id": "1e68d33eb984476ca9dc192a59abaa4d",
       "version_major": 2,
       "version_minor": 0
      },
      "text/plain": [
       "  0%|          | 0/132 [00:00<?, ?it/s]"
      ]
     },
     "metadata": {},
     "output_type": "display_data"
    },
    {
     "name": "stdout",
     "output_type": "stream",
     "text": [
      "Epoch 7 train loss: 0.073 val loss: 0.098\n",
      "Training time: 12.588min for 7193 iterations\n",
      "Epoch 9/15\n",
      "Training...\n"
     ]
    },
    {
     "data": {
      "application/vnd.jupyter.widget-view+json": {
       "model_id": "2a82a83cc8244ff3ba14207e3ab945b5",
       "version_major": 2,
       "version_minor": 0
      },
      "text/plain": [
       "  0%|          | 0/899 [00:00<?, ?it/s]"
      ]
     },
     "metadata": {},
     "output_type": "display_data"
    },
    {
     "name": "stdout",
     "output_type": "stream",
     "text": [
      "Validating...\n"
     ]
    },
    {
     "data": {
      "application/vnd.jupyter.widget-view+json": {
       "model_id": "2114ae74857f410f853067a962353d8f",
       "version_major": 2,
       "version_minor": 0
      },
      "text/plain": [
       "  0%|          | 0/132 [00:00<?, ?it/s]"
      ]
     },
     "metadata": {},
     "output_type": "display_data"
    },
    {
     "name": "stdout",
     "output_type": "stream",
     "text": [
      "Epoch 8 train loss: 0.072 val loss: 0.100\n",
      "Training time: 12.639min for 8092 iterations\n",
      "Saved plots to output/[train or val]_loss8.png\n",
      "Epoch 10/15\n",
      "Training...\n"
     ]
    },
    {
     "data": {
      "application/vnd.jupyter.widget-view+json": {
       "model_id": "c277aaad1b8140d48f8b5c18b2daf0b8",
       "version_major": 2,
       "version_minor": 0
      },
      "text/plain": [
       "  0%|          | 0/899 [00:00<?, ?it/s]"
      ]
     },
     "metadata": {},
     "output_type": "display_data"
    },
    {
     "name": "stdout",
     "output_type": "stream",
     "text": [
      "Validating...\n"
     ]
    },
    {
     "data": {
      "application/vnd.jupyter.widget-view+json": {
       "model_id": "2c85654cee954fa787dce6595fedb29e",
       "version_major": 2,
       "version_minor": 0
      },
      "text/plain": [
       "  0%|          | 0/132 [00:00<?, ?it/s]"
      ]
     },
     "metadata": {},
     "output_type": "display_data"
    },
    {
     "name": "stdout",
     "output_type": "stream",
     "text": [
      "Epoch 9 train loss: 0.070 val loss: 0.102\n",
      "Training time: 12.554min for 8991 iterations\n",
      "Epoch 11/15\n",
      "Training...\n"
     ]
    },
    {
     "data": {
      "application/vnd.jupyter.widget-view+json": {
       "model_id": "6e699fd9ed764e23a24d0276e7ed2b75",
       "version_major": 2,
       "version_minor": 0
      },
      "text/plain": [
       "  0%|          | 0/899 [00:00<?, ?it/s]"
      ]
     },
     "metadata": {},
     "output_type": "display_data"
    },
    {
     "name": "stdout",
     "output_type": "stream",
     "text": [
      "Validating...\n"
     ]
    },
    {
     "data": {
      "application/vnd.jupyter.widget-view+json": {
       "model_id": "4bef985cd20e403d8971af06cb3dd938",
       "version_major": 2,
       "version_minor": 0
      },
      "text/plain": [
       "  0%|          | 0/132 [00:00<?, ?it/s]"
      ]
     },
     "metadata": {},
     "output_type": "display_data"
    },
    {
     "name": "stdout",
     "output_type": "stream",
     "text": [
      "Epoch 10 train loss: 0.070 val loss: 0.100\n",
      "Training time: 12.713min for 9890 iterations\n",
      "Saved model to output/model10.pth\n",
      "Saved plots to output/[train or val]_loss10.png\n",
      "Epoch 12/15\n",
      "Training...\n"
     ]
    },
    {
     "data": {
      "application/vnd.jupyter.widget-view+json": {
       "model_id": "5a77677f5a604a2da6627ef42e3dee77",
       "version_major": 2,
       "version_minor": 0
      },
      "text/plain": [
       "  0%|          | 0/899 [00:00<?, ?it/s]"
      ]
     },
     "metadata": {},
     "output_type": "display_data"
    },
    {
     "name": "stdout",
     "output_type": "stream",
     "text": [
      "Validating...\n"
     ]
    },
    {
     "data": {
      "application/vnd.jupyter.widget-view+json": {
       "model_id": "d0094d33812941f3822bea7652024f38",
       "version_major": 2,
       "version_minor": 0
      },
      "text/plain": [
       "  0%|          | 0/132 [00:00<?, ?it/s]"
      ]
     },
     "metadata": {},
     "output_type": "display_data"
    },
    {
     "name": "stdout",
     "output_type": "stream",
     "text": [
      "Epoch 11 train loss: 0.068 val loss: 0.102\n",
      "Training time: 12.598min for 10789 iterations\n",
      "Epoch 13/15\n",
      "Training...\n"
     ]
    },
    {
     "data": {
      "application/vnd.jupyter.widget-view+json": {
       "model_id": "b61f80a8b6a74c32907c03e7b8269865",
       "version_major": 2,
       "version_minor": 0
      },
      "text/plain": [
       "  0%|          | 0/899 [00:00<?, ?it/s]"
      ]
     },
     "metadata": {},
     "output_type": "display_data"
    },
    {
     "name": "stdout",
     "output_type": "stream",
     "text": [
      "Validating...\n"
     ]
    },
    {
     "data": {
      "application/vnd.jupyter.widget-view+json": {
       "model_id": "641486826c074039869757498a6a6d29",
       "version_major": 2,
       "version_minor": 0
      },
      "text/plain": [
       "  0%|          | 0/132 [00:00<?, ?it/s]"
      ]
     },
     "metadata": {},
     "output_type": "display_data"
    },
    {
     "name": "stdout",
     "output_type": "stream",
     "text": [
      "Epoch 12 train loss: 0.068 val loss: 0.100\n",
      "Training time: 12.545min for 11688 iterations\n",
      "Saved plots to output/[train or val]_loss12.png\n",
      "Epoch 14/15\n",
      "Training...\n"
     ]
    },
    {
     "data": {
      "application/vnd.jupyter.widget-view+json": {
       "model_id": "f8ef6128be8e42a685060b36d5c0f23a",
       "version_major": 2,
       "version_minor": 0
      },
      "text/plain": [
       "  0%|          | 0/899 [00:00<?, ?it/s]"
      ]
     },
     "metadata": {},
     "output_type": "display_data"
    },
    {
     "name": "stdout",
     "output_type": "stream",
     "text": [
      "Validating...\n"
     ]
    },
    {
     "data": {
      "application/vnd.jupyter.widget-view+json": {
       "model_id": "c40deb88b33843a28ad5b605eb38d405",
       "version_major": 2,
       "version_minor": 0
      },
      "text/plain": [
       "  0%|          | 0/132 [00:00<?, ?it/s]"
      ]
     },
     "metadata": {},
     "output_type": "display_data"
    },
    {
     "name": "stdout",
     "output_type": "stream",
     "text": [
      "Epoch 13 train loss: 0.067 val loss: 0.101\n",
      "Training time: 12.591min for 12587 iterations\n",
      "Epoch 15/15\n",
      "Training...\n"
     ]
    },
    {
     "data": {
      "application/vnd.jupyter.widget-view+json": {
       "model_id": "e5d26984c14a43678107fc1d7aad166b",
       "version_major": 2,
       "version_minor": 0
      },
      "text/plain": [
       "  0%|          | 0/899 [00:00<?, ?it/s]"
      ]
     },
     "metadata": {},
     "output_type": "display_data"
    }
   ],
   "source": [
    "\n",
    "# The MAIN Training Loop\n",
    "for epoch in range(0, NUM_EPOCHS):\n",
    "    print(f'Epoch {epoch+1}/{NUM_EPOCHS}')\n",
    "\n",
    "    # Reset training and validation loss histories\n",
    "    train_loss_hist.reset()\n",
    "    val_loss_hist.reset()\n",
    "\n",
    "    # Prepare training and validation plots:\n",
    "    figure_1, train_ax = plt.subplots()\n",
    "    figure_2, val_ax = plt.subplots()\n",
    "\n",
    "    # Start the timer and begin training and validation\n",
    "    start = time.time()\n",
    "\n",
    "    # The training loop\n",
    "    train_losses = train(train_loader, model)\n",
    "\n",
    "    # The validation loop\n",
    "    val_losses = validate(valid_loader, model)\n",
    "\n",
    "    # Print the training and validation loss\n",
    "    print(f'Epoch {epoch} train loss: {train_loss_hist.value:.3f} val loss: {val_loss_hist.value:.3f}')\n",
    "    end = time.time()\n",
    "    print(f'Training time: {((end - start) / 60):.3f}min for {train_iter} iterations')\n",
    "\n",
    "\n",
    "    if (epoch % SAVE_MODEL_EPOCH == 0) or (epoch == NUM_EPOCHS):\n",
    "        # Save the model\n",
    "        torch.save(model.state_dict(), os.path.join(OUTPUT_DIR,f'model{epoch}.pth'))\n",
    "        print(f'Saved model to {os.path.join(OUTPUT_DIR,f\"model{epoch}.pth\")}')\n",
    "    \n",
    "    if (epoch % SAVE_PLOTS_EPOCH == 0) or (epoch == NUM_EPOCHS):\n",
    "        # Generate plots\n",
    "        train_ax.plot(train_losses, color='blue')\n",
    "        train_ax.set_xlabel('Iterations')\n",
    "        train_ax.set_ylabel('Training Loss')\n",
    "        val_ax.plot(val_losses, color='red')\n",
    "        val_ax.set_xlabel('Iterations')\n",
    "        val_ax.set_ylabel('Validation Loss')\n",
    "        figure_1.savefig(os.path.join(OUTPUT_DIR,f'train_loss{epoch}.png'))\n",
    "        figure_2.savefig(os.path.join(OUTPUT_DIR,f'val_loss{epoch}.png'))\n",
    "        print(f'Saved plots to {os.path.join(OUTPUT_DIR,f\"[train or val]_loss{epoch}.png\")}')\n",
    "\n",
    "    plt.close('all')"
   ]
  },
  {
   "attachments": {},
   "cell_type": "markdown",
   "metadata": {},
   "source": [
    "# The machine was auto-shutdown before the training loop could finish. \n",
    "It doesn't look like the performance from one epoch to the next had been improving, so the 10th Epoch is likely sufficient. "
   ]
  },
  {
   "cell_type": "code",
   "execution_count": null,
   "metadata": {},
   "outputs": [],
   "source": []
  }
 ],
 "metadata": {
  "kernelspec": {
   "display_name": "Python 3 (ipykernel)",
   "language": "python",
   "name": "python3"
  },
  "language_info": {
   "codemirror_mode": {
    "name": "ipython",
    "version": 3
   },
   "file_extension": ".py",
   "mimetype": "text/x-python",
   "name": "python",
   "nbconvert_exporter": "python",
   "pygments_lexer": "ipython3",
   "version": "3.9.16"
  }
 },
 "nbformat": 4,
 "nbformat_minor": 4
}
