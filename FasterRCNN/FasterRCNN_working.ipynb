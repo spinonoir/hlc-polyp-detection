{
 "cells": [
  {
   "cell_type": "code",
   "execution_count": 1,
   "metadata": {},
   "outputs": [],
   "source": [
    "import os\n",
    "from src.config import DEVICE, NUM_CLASSES, NUM_EPOCHS, OUTPUT_DIR\n",
    "from src.config import VISUALIZE_AFTER_TRANSFORM, SAVE_PLOTS_EPOCH, SAVE_MODEL_EPOCH\n",
    "from src.model import *\n",
    "from src.utils import Averager\n",
    "from tqdm import tqdm\n",
    "from src.PolypDataset import get_dataloaders\n",
    "import torch\n",
    "import matplotlib.pyplot as plt\n",
    "import time\n",
    "plt.style.use('ggplot')\n",
    "%matplotlib inline"
   ]
  },
  {
   "cell_type": "markdown",
   "metadata": {},
   "source": []
  },
  {
   "cell_type": "code",
   "execution_count": 2,
   "metadata": {},
   "outputs": [],
   "source": [
    "%load_ext autoreload\n",
    "%autoreload 2"
   ]
  },
  {
   "cell_type": "code",
   "execution_count": 3,
   "metadata": {},
   "outputs": [
    {
     "name": "stdout",
     "output_type": "stream",
     "text": [
      "Train dataset size: 28773\n",
      "Valid dataset size: 4630\n",
      "\n"
     ]
    }
   ],
   "source": [
    " # Initialize the model and move to GPU (if available)\n",
    "model = create_model(num_classes=NUM_CLASSES)\n",
    "model = model.to(DEVICE)\n",
    "\n",
    "# Obtain model parameters to be optimized/updated in this run.\n",
    "params = filter(lambda p: p.requires_grad, model.parameters())\n",
    "\n",
    "# Define the optimizer\n",
    "# TODO: Try out alternatives to SGD --> Maybe use the ABC algorithm \n",
    "optimizer = torch.optim.SGD(params, lr=0.001, momentum=0.9, weight_decay=0.0005)\n",
    "\n",
    "# Initialize training loss tracking variables for plotting\n",
    "train_loss_hist = Averager()\n",
    "train_iter = 1\n",
    "train_losses = []\n",
    "# Initialize validation loss tracking variables for plotting\n",
    "val_loss_hist = Averager()\n",
    "val_iter = 1\n",
    "val_losses = []\n",
    "\n",
    "# Give the model a name :-)\n",
    "MODEL_NAME = 'polyps_model_1'\n",
    "\n",
    "\n",
    "train_loader, valid_loader = get_dataloaders()\n",
    "\n",
    "# Show transformed images if VISUALIZE_AFTER_TRANSFORM is True\n",
    "# TODO: Don't use this until we have rewritten the show_transformed_images function\n",
    "# to work with pyplot instead of cv2\n",
    "if VISUALIZE_AFTER_TRANSFORM:\n",
    "    from src.utils import show_transformed_image\n",
    "    show_transformed_image(train_loader, model)\n",
    "\n"
   ]
  },
  {
   "cell_type": "code",
   "execution_count": 4,
   "metadata": {},
   "outputs": [],
   "source": [
    "# The training loop function\n",
    "def train(train_data_loader, model):\n",
    "    print('Training...')\n",
    "    global train_iter\n",
    "    global train_losses\n",
    "\n",
    "    # THE LOOP w/Beautiful progress bar\n",
    "    with tqdm(total=len(train_data_loader)) as pbar:\n",
    "        for data in train_data_loader:\n",
    "            # Get the images and targets from the data loader\n",
    "            images, targets = data\n",
    "            \n",
    "            # Move the images and targets to the GPU\n",
    "            images = list(image.to(DEVICE) for image in images)\n",
    "            for target in targets:\n",
    "                target['boxes'] = target['boxes'].to(DEVICE)\n",
    "                target['labels'] = target['labels'].to(DEVICE)\n",
    "\n",
    "            # Zero the parameter gradients\n",
    "            optimizer.zero_grad()\n",
    "\n",
    "            # Forward pass\n",
    "            loss_dict = model(images, targets)\n",
    "\n",
    "            # Get the loss\n",
    "            losses = sum(loss for loss in loss_dict.values())\n",
    "\n",
    "            # Backward pass\n",
    "            losses.backward()\n",
    "\n",
    "            # Update the weights\n",
    "            optimizer.step()\n",
    "\n",
    "            # Update the progress bar\n",
    "            pbar.set_description(f\"Loss: {losses.item():.4f}\")\n",
    "            # pbar.update(1)\n",
    "            # Update the losses\n",
    "            train_loss_hist.send(losses.item())\n",
    "            train_iter += 1\n",
    "\n",
    "    return train_losses \n"
   ]
  },
  {
   "cell_type": "code",
   "execution_count": 5,
   "metadata": {},
   "outputs": [],
   "source": [
    "\n",
    "# The validation loop function\n",
    "def validate(val_data_loader, model):\n",
    "    print('Validating...')\n",
    "    global val_iter\n",
    "    global val_losses\n",
    "\n",
    "    # THE LOOP w/Beautiful progress bar\n",
    "    with tqdm(total=len(val_data_loader)) as pbar:\n",
    "        for data in pbar:\n",
    "            # Get the images and targets from the data loader\n",
    "            images, targets = data\n",
    "\n",
    "            # Move the images and targets to the GPU\n",
    "            images = list(image.to(DEVICE) for image in images)\n",
    "            targets = [{k: v.to(DEVICE) for k, v in t.items()} for t in targets]\n",
    "\n",
    "            # Forward pass\n",
    "            with torch.no_grad():\n",
    "                loss_dict = model(images, targets)\n",
    "\n",
    "            # Get the loss\n",
    "            losses = sum(loss for loss in loss_dict.values())\n",
    "            val_losses = losses.item()\n",
    "    \n",
    "\n",
    "            # Update the progress bar\n",
    "            pbar.set_description(f\"Loss: {losses.item():.4f}\")\n",
    "            # pbar.update(1)\n",
    "\n",
    "            # Update the losses\n",
    "            val_loss_hist.send(losses.item())\n",
    "            val_iter += 1\n",
    "\n",
    "    return val_losses"
   ]
  },
  {
   "cell_type": "code",
   "execution_count": 6,
   "metadata": {},
   "outputs": [
    {
     "name": "stdout",
     "output_type": "stream",
     "text": [
      "Epoch 1/15\n",
      "Training...\n"
     ]
    },
    {
     "name": "stderr",
     "output_type": "stream",
     "text": [
      "Loss: 0.4851:   0%|          | 0/899 [04:46<?, ?it/s]"
     ]
    }
   ],
   "source": [
    "\n",
    "# The MAIN Training Loop\n",
    "for epoch in range(1, NUM_EPOCHS + 1):\n",
    "    print(f'Epoch {epoch}/{NUM_EPOCHS}')\n",
    "\n",
    "    # Reset training and validation loss histories\n",
    "    train_loss_hist.reset()\n",
    "    val_loss_hist.reset()\n",
    "\n",
    "    # Prepare training and validation plots:\n",
    "    figure_1, train_ax = plt.subplots()\n",
    "    figure_2, val_ax = plt.subplots()\n",
    "\n",
    "    # Start the timer and begin training and validation\n",
    "    start = time.time()\n",
    "\n",
    "    # The training loop\n",
    "    train_losses = train(train_loader, model)\n",
    "\n",
    "    # The validation loop\n",
    "    val_losses = validate(valid_loader, model)\n",
    "\n",
    "    # Print the training and validation loss\n",
    "    print(f'Epoch {epoch} train loss: {train_loss_hist.value:.3f} val loss: {val_loss_hist.value:.3f}')\n",
    "    end = time.time()\n",
    "    print(f'Training time: {((end - start) / 60):.3f}min for {train_iter} iterations')\n",
    "\n",
    "\n",
    "    if (epoch % SAVE_MODEL_EPOCH == 0) or (epoch == NUM_EPOCHS):\n",
    "        # Save the model\n",
    "        torch.save(model.state_dict(), os.path.join(OUTPUT_DIR,f'model{epoch}.pth'))\n",
    "        print(f'Saved model to {os.path.join(OUTPUT_DIR,f\"model{epoch}.pth\")}')\n",
    "    \n",
    "    if (epoch % SAVE_PLOTS_EPOCH == 0) or (epoch == NUM_EPOCHS):\n",
    "        # Generate plots\n",
    "        train_ax.plot(train_losses, color='blue')\n",
    "        train_ax.set_xlabel('Iterations')\n",
    "        train_ax.set_ylabel('Training Loss')\n",
    "        val_ax.plot(val_losses, color='red')\n",
    "        val_ax.set_xlabel('Iterations')\n",
    "        val_ax.set_ylabel('Validation Loss')\n",
    "        figure_1.savefig(os.path.join(OUTPUT_DIR,f'train_loss{epoch}.png'))\n",
    "        figure_2.savefig(os.path.join(OUTPUT_DIR,f'val_loss{epoch}.png'))\n",
    "        print(f'Saved plots to {os.path.join(OUTPUT_DIR,f\"[train or val]_loss{epoch}.png\")}')\n",
    "\n",
    "    plt.close('all')"
   ]
  },
  {
   "cell_type": "code",
   "execution_count": null,
   "metadata": {},
   "outputs": [],
   "source": []
  }
 ],
 "metadata": {
  "kernelspec": {
   "display_name": "hidden-layer-cake",
   "language": "python",
   "name": "python3"
  },
  "language_info": {
   "codemirror_mode": {
    "name": "ipython",
    "version": 3
   },
   "file_extension": ".py",
   "mimetype": "text/x-python",
   "name": "python",
   "nbconvert_exporter": "python",
   "pygments_lexer": "ipython3",
   "version": "3.9.16"
  },
  "orig_nbformat": 4
 },
 "nbformat": 4,
 "nbformat_minor": 2
}
